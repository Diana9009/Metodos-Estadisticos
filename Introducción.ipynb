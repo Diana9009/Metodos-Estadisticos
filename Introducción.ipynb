{
  "nbformat": 4,
  "nbformat_minor": 0,
  "metadata": {
    "colab": {
      "provenance": []
    },
    "kernelspec": {
      "display_name": "Python 3",
      "language": "python",
      "name": "python3"
    },
    "language_info": {
      "codemirror_mode": {
        "name": "ipython",
        "version": 3
      },
      "file_extension": ".py",
      "mimetype": "text/x-python",
      "name": "python",
      "nbconvert_exporter": "python",
      "pygments_lexer": "ipython3",
      "version": "3.7.0"
    }
  },
  "cells": [
    {
      "cell_type": "markdown",
      "source": [
        "<center>\n",
        "\n",
        "\n",
        "---\n",
        "# **Seminario de grado intersemestral** -\n",
        "# **Big Data Analytics**\n",
        "---\n",
        "<img src =\"https://drive.google.com/uc?id=1w4zmhCaRphfCALo5kjozOq6hTCct4MK0\" width=\"500\" >\n",
        "\n",
        "</center>"
      ],
      "metadata": {
        "id": "i9NnbTk1RnMh"
      }
    },
    {
      "cell_type": "markdown",
      "metadata": {
        "id": "nQRZ3u_b9bZd"
      },
      "source": [
        "\n",
        "<center>\n",
        "\n",
        "![logopython.png](https://drive.google.com/uc?id=1glsr5_f_1BQZqTvbCPC3MGks7wuC9R39)\n",
        "\n",
        "\n",
        "\n",
        "# **Fundamentos de Python**\n",
        "</center>\n",
        "\n",
        "## **Python Notebooks**\n",
        "Los notebooks de Python proveen un ambiente interactivo para experimentación de código, visualización y publicación de resultados.\n",
        "\n",
        "Las casillas de color gris claro que se encuentran a continuación se denominan celdas y estas pueden contener código (code) o texto formateado (Markdown).\n",
        "\n",
        "* `[Flechas arriba / abajo]` Mover arriba y abajo de celda a celda.\n",
        "* `[Enter]` Ingresa una celda para editarla.\n",
        "* `[Shift + Enter]` Evalúa una celda, muestra el resultado y pasa a la siguiente celda.\n",
        "* `[Ctrl + Enter]` Evalúa una celda, muestra el resultado y permanece en la celda.\n",
        "* `[Alt + Enter]` Evalúa una celda, muestra el resultado e inserta una celda abajo.\n",
        "* `[Esc] - [D] - [D]` Eliminar una celda.\n",
        "* `[Esc] - [Z]` Deshacer eliminar una celda.\n",
        "* `[Esc] - [B]` Insertar una celda debajo de la celda actual.\n",
        "* `[Esc] - [A]` Insertar una celda sobre la celda actual.\n",
        "* `[Esc] - [M]` Convierte la celda de código en markdown.\n",
        "* `[Esc] - [Y]` Convierte la celda de Markdown a código.\n",
        "\n",
        "Para más atajos de teclado vaya al menú Ayuda -> Atajos de teclado"
      ]
    },
    {
      "cell_type": "markdown",
      "metadata": {
        "id": "sXKKKcpE9oUB"
      },
      "source": [
        "## **Variables en Python**\n",
        "\n",
        "---\n",
        "\n",
        "<center>\n",
        "<img src=\"https://drive.google.com/uc?id=1yTeJ2D_jMzUrkSO1OR9mTGtiTFviYvEc\" width=\"400px\" height=\"300px\" style=\"float:left\"/>\n",
        "</center>\n",
        "\n",
        "### **Variable**: Es donde se guarda determinada información (texto, números, booleanas, etc.)\n",
        "\n",
        "Cada variable tiene un nombre para referirse a ella, Python tiene en cuenta si escribimos en mayúsculas o minúsculas la variable (case sensitive).\n",
        "\n",
        "Para definir variables en Python se realiza de la siguiente manera:\n",
        "\n",
        "```python\n",
        "# Asignando un valor\n",
        "variable = valor\n",
        "# Asignando varios valores\n",
        "variable1, variable2 = valor1, valor2\n",
        "```\n",
        "\n",
        "Python al asignar la variable define cual es el tipo de datos más apropiado.  \n",
        "\n",
        "### **Números**\n",
        "\n",
        "En números hay dos tipos principales, los números enteros (int) y los reales (float).  El separador decimal es el punto.\n",
        "\n",
        "```python\n",
        "entero = 2\n",
        "real = 2.5\n",
        "```\n",
        "\n",
        "### **Texto**\n",
        "\n",
        "Las variables que almacenan texto se denominan strings (str).  Se deben de poner entre commillas sencillas o dobles, si el texto es multilinea con triple comilla.\n",
        "\n",
        "```python\n",
        "cadena = \"Hola\"\n",
        "cadena = 'Hola'\n",
        "multilinea = \"\"\" Hola\n",
        "                Mundo \"\"\"\n",
        "multilinea = ''' Hola\n",
        "                Mundo '''             \n",
        "```\n",
        "\n",
        "### **Listas**\n",
        "\n",
        "Son conjuntos ordenados de elementos (números, texto, listas, etc). Se delimitan por corchetes (`[]`) y los elementos se separan por comas. Las listas son dinamicas, es decir que son mutables.\n",
        "\n",
        "```python\n",
        "listaNumeros = [1,2,3]\n",
        "listaCadenas = ['a','b','c']\n",
        "listaListas = [[1,2],[3,4],[5,6]]\n",
        "listaMixtas = [1,'Grupo',[1,2,3,4]]\n",
        "listaVacia = []\n",
        "```\n",
        "\n",
        "### **Tuplas**\n",
        "\n",
        "Es un conjunto ordenado e inmutable de elementos del mismo o diferente tipo. Las tuplas se representan escribiendo los elementos entre paréntesis (`()`) y separados por comas. Las tuplas son estaticas, son inmutables, una vez creada no puede ser modificada.\n",
        "\n",
        "```python\n",
        "tuplaNumeros = (1,2,3)\n",
        "tuplaCadenas = ('a','b','c')\n",
        "tuplaListas = ([1,2],[3,4],[5,6])\n",
        "tuplaMixtas = (1,'Grupo',[1,2,3,4])\n",
        "```\n",
        "\n",
        "### **Diccionarios**\n",
        "\n",
        "Permite almacenar cualquier tipo de valor como enteros, cadenas, listas, etc.  Los diccionarios permiten además identificar cada elemento por una clave (key)\n",
        "\n",
        "```python\n",
        "dictNumeros = {'k1':1,'k2':2}\n",
        "dictCadenas = {'k1':'a','k2':'b','k3':'c'}\n",
        "dictListas = {'k1':[1,2],'k2':[3,4],'k3':[5,6]}\n",
        "dictMixto = {'k1':1,'k2':'Grupo','k3':[1,2,3,4]}\n",
        "```\n",
        "\n",
        "### **Booleano**\n",
        "\n",
        "Una variable booleana es una variable que sólo puede tomar dos posibles valores: Verdadero (True) o Falso (False).\n",
        "\n",
        "```python\n",
        "verdadero = True\n",
        "falso = False\n",
        "```\n",
        "\n",
        "### **None**\n",
        "\n",
        "Es el tipo de dato que en otros lenguajes se conoce como Nulo (NAN).  En Python es NoneType.\n",
        "\n",
        "```python\n",
        "nulo = None\n",
        "```\n",
        "\n",
        "### **Imprimir variables**\n",
        "\n",
        "El comando `print(variable)` imprime el valor de la variable.\n",
        "\n",
        "\n",
        "### **Comentarios**\n",
        "\n",
        "Los comentarios en linea se define con `#`"
      ]
    },
    {
      "cell_type": "code",
      "metadata": {
        "colab": {
          "base_uri": "https://localhost:8080/"
        },
        "id": "lm1DmHY5ovnk",
        "outputId": "96f100cf-e0e8-4a40-c8a7-a77cfd94cf97"
      },
      "source": [
        "x=26   # esto es una variable\n",
        "print(x)\n",
        "y=3\n",
        "print(y)"
      ],
      "execution_count": null,
      "outputs": [
        {
          "output_type": "stream",
          "name": "stdout",
          "text": [
            "26\n",
            "3\n"
          ]
        }
      ]
    },
    {
      "cell_type": "code",
      "metadata": {
        "colab": {
          "base_uri": "https://localhost:8080/"
        },
        "id": "gVAgdTbUu2ZT",
        "outputId": "3432ca1b-2eb6-4e24-9616-3268d5afaf30"
      },
      "source": [
        "z=7\n",
        "#print(z)\n",
        "print(z)\n",
        "w=66\n",
        "#print(w)\n",
        "\n"
      ],
      "execution_count": null,
      "outputs": [
        {
          "output_type": "stream",
          "name": "stdout",
          "text": [
            "7\n"
          ]
        }
      ]
    },
    {
      "cell_type": "markdown",
      "metadata": {
        "id": "HmsKM8k14FmT"
      },
      "source": [
        "- **Declarando un entero (int)**\n"
      ]
    },
    {
      "cell_type": "code",
      "metadata": {
        "colab": {
          "base_uri": "https://localhost:8080/"
        },
        "id": "BFipE-Vt9n-3",
        "outputId": "a00e497e-47bb-4007-b420-1349a2f2e4bc"
      },
      "source": [
        "x = 2\n",
        "print('Es un entero: ', x)"
      ],
      "execution_count": null,
      "outputs": [
        {
          "output_type": "stream",
          "name": "stdout",
          "text": [
            "Es un entero:  2\n"
          ]
        }
      ]
    },
    {
      "cell_type": "code",
      "metadata": {
        "colab": {
          "base_uri": "https://localhost:8080/"
        },
        "id": "Okg6MQ0Wcxt_",
        "outputId": "1b31adbb-bade-46aa-86c8-6c957b4219ef"
      },
      "source": [
        "x"
      ],
      "execution_count": null,
      "outputs": [
        {
          "output_type": "execute_result",
          "data": {
            "text/plain": [
              "2"
            ]
          },
          "metadata": {},
          "execution_count": 23
        }
      ]
    },
    {
      "cell_type": "markdown",
      "metadata": {
        "id": "W-DEznnT3_Ti"
      },
      "source": [
        "\n",
        "- **Declarando un real (float)**"
      ]
    },
    {
      "cell_type": "code",
      "metadata": {
        "colab": {
          "base_uri": "https://localhost:8080/"
        },
        "id": "9PwUJ1adFreY",
        "outputId": "ebb246d0-9594-4ad9-a7c8-3201bc2e7aef"
      },
      "source": [
        "y = 2.566097889\n",
        "print(\"Es un nuúmero real: \", y)"
      ],
      "execution_count": null,
      "outputs": [
        {
          "output_type": "stream",
          "name": "stdout",
          "text": [
            "Es un nuúmero real:  2.566097889\n"
          ]
        }
      ]
    },
    {
      "cell_type": "code",
      "metadata": {
        "colab": {
          "base_uri": "https://localhost:8080/"
        },
        "id": "9KECUxz8srOm",
        "outputId": "b17956da-5eb6-4dba-8a03-52f50c4384d6"
      },
      "source": [
        "x=3\n",
        "y=2\n",
        "print(x)\n",
        "print(y)"
      ],
      "execution_count": null,
      "outputs": [
        {
          "output_type": "stream",
          "name": "stdout",
          "text": [
            "3\n",
            "2\n"
          ]
        }
      ]
    },
    {
      "cell_type": "markdown",
      "metadata": {
        "id": "h0GSEbNN4POV"
      },
      "source": [
        "- **Declarando un texto**"
      ]
    },
    {
      "cell_type": "code",
      "metadata": {
        "colab": {
          "base_uri": "https://localhost:8080/"
        },
        "id": "F_m4IRhqEo9r",
        "outputId": "b1834eae-2b8a-48a0-cb55-79c4c3d85fd9"
      },
      "source": [
        "mensaje = \"Hola Mundo\"\n",
        "print(mensaje, \" Grupo\")\n",
        "mensaje = 'Hola Mundo'\n",
        "print(mensaje, \" Grupo\")"
      ],
      "execution_count": null,
      "outputs": [
        {
          "output_type": "stream",
          "name": "stdout",
          "text": [
            "Hola Mundo  Grupo\n",
            "Hola Mundo  Grupo\n"
          ]
        }
      ]
    },
    {
      "cell_type": "markdown",
      "metadata": {
        "id": "TNEKZ-AT4UEE"
      },
      "source": [
        "- **Multilinea**"
      ]
    },
    {
      "cell_type": "code",
      "metadata": {
        "colab": {
          "base_uri": "https://localhost:8080/"
        },
        "id": "Ef0qUaAE9Qg-",
        "outputId": "fc85edb9-ec7b-4cad-cd8b-e78d48a0f9fa"
      },
      "source": [
        "\n",
        "multilinea = \"\"\"Hola \n",
        "   Mundo\"\"\"\n",
        "print(multilinea, \" Grupo\")\n",
        "multilinea = '''Hola \n",
        "                               Mundo'''\n",
        "print(multilinea, \"                       Grupo\")"
      ],
      "execution_count": null,
      "outputs": [
        {
          "output_type": "stream",
          "name": "stdout",
          "text": [
            "Hola \n",
            "   Mundo  Grupo\n",
            "Hola \n",
            "                               Mundo                        Grupo\n"
          ]
        }
      ]
    },
    {
      "cell_type": "code",
      "metadata": {
        "colab": {
          "base_uri": "https://localhost:8080/",
          "height": 35
        },
        "id": "eo2ybr55dFy1",
        "outputId": "7ccd22e5-4268-42cf-89a3-fcf5e657f5c7"
      },
      "source": [
        "multilinea"
      ],
      "execution_count": null,
      "outputs": [
        {
          "output_type": "execute_result",
          "data": {
            "application/vnd.google.colaboratory.intrinsic+json": {
              "type": "string"
            },
            "text/plain": [
              "'Hola \\n                               Mundo'"
            ]
          },
          "metadata": {},
          "execution_count": 8
        }
      ]
    },
    {
      "cell_type": "markdown",
      "metadata": {
        "id": "HgBJ6PVZ4Yj3"
      },
      "source": [
        "- **Declarando una lista**\n"
      ]
    },
    {
      "cell_type": "code",
      "metadata": {
        "colab": {
          "base_uri": "https://localhost:8080/"
        },
        "id": "4TeMiF79RuWZ",
        "outputId": "f0182fcc-7b2f-4099-8849-abf85a4e0241"
      },
      "source": [
        "listaNumeros = [1,2,3,4]\n",
        "print(listaNumeros)\n",
        "\n",
        "listaCadenas = ['a','b','c','Juan']\n",
        "print(listaCadenas)\n",
        "\n",
        "listaListas = [[1,2],[3,4],[5,6]]\n",
        "print(listaListas)\n",
        "\n",
        "listaMixtas = [1,'Grupo',[1,2,3,4]]\n",
        "print(listaMixtas)\n",
        "\n",
        "listaVacia = []\n",
        "print(listaVacia)"
      ],
      "execution_count": null,
      "outputs": [
        {
          "output_type": "stream",
          "name": "stdout",
          "text": [
            "[1, 2, 3, 4]\n",
            "['a', 'b', 'c', 'Juan']\n",
            "[[1, 2], [3, 4], [5, 6]]\n",
            "[1, 'Grupo', [1, 2, 3, 4]]\n",
            "[]\n"
          ]
        }
      ]
    },
    {
      "cell_type": "markdown",
      "metadata": {
        "id": "8KPXAH4n4dTE"
      },
      "source": [
        "- **Declarando una Tupla**"
      ]
    },
    {
      "cell_type": "code",
      "metadata": {
        "colab": {
          "base_uri": "https://localhost:8080/"
        },
        "id": "-vZwr-fiSElu",
        "outputId": "4427132a-72d2-4483-bf72-9dea45cd02f9"
      },
      "source": [
        "tuplaNumeros = (1,2,3)\n",
        "print(tuplaNumeros)\n",
        "\n",
        "tuplaCadenas = ('wilson','javier','Carlos')\n",
        "print(tuplaCadenas)\n",
        "\n",
        "tuplaListas = ([1,2],[3,4],[5,6])\n",
        "print(tuplaListas)\n",
        "\n",
        "tuplaMixtas = (1,'Grupo',[1,2,3,4])\n",
        "print(tuplaMixtas)"
      ],
      "execution_count": null,
      "outputs": [
        {
          "output_type": "stream",
          "name": "stdout",
          "text": [
            "(1, 2, 3)\n",
            "('wilson', 'javier', 'Carlos')\n",
            "([1, 2], [3, 4], [5, 6])\n",
            "(1, 'Grupo', [1, 2, 3, 4])\n"
          ]
        }
      ]
    },
    {
      "cell_type": "code",
      "metadata": {
        "colab": {
          "base_uri": "https://localhost:8080/"
        },
        "id": "XkTrwnIWvvvv",
        "outputId": "2e74ef67-9fb2-481c-8fd0-30e2382e126c"
      },
      "source": [
        "listaNumeros"
      ],
      "execution_count": null,
      "outputs": [
        {
          "output_type": "execute_result",
          "data": {
            "text/plain": [
              "[1, 2, 3, 4]"
            ]
          },
          "metadata": {
            "tags": []
          },
          "execution_count": 28
        }
      ]
    },
    {
      "cell_type": "markdown",
      "metadata": {
        "id": "i5WyXSgz4j62"
      },
      "source": [
        "- **Declarando Diccionarios**"
      ]
    },
    {
      "cell_type": "code",
      "metadata": {
        "colab": {
          "base_uri": "https://localhost:8080/"
        },
        "id": "eEfYQVO0QUK0",
        "outputId": "b4758035-cdcc-41cf-9c63-6dff49e8fb84"
      },
      "source": [
        "dictNumeros = {'k1':1,'k2':2}\n",
        "print(dictNumeros)\n",
        "dictCadenas = {'k1':'a','k2':'b','k3':'c'}\n",
        "print(dictCadenas)\n",
        "dictListas = {'k1':[1,2],'k2':[3,4],'k3':[5,6]}\n",
        "print(dictListas)\n",
        "dictMixto = {'k1':1,'k2':'Grupo','k3':[1,2,3,4]}\n",
        "print(dictMixto)"
      ],
      "execution_count": null,
      "outputs": [
        {
          "output_type": "stream",
          "name": "stdout",
          "text": [
            "{'k1': 1, 'k2': 2}\n",
            "{'k1': 'a', 'k2': 'b', 'k3': 'c'}\n",
            "{'k1': [1, 2], 'k2': [3, 4], 'k3': [5, 6]}\n",
            "{'k1': 1, 'k2': 'Grupo', 'k3': [1, 2, 3, 4]}\n"
          ]
        }
      ]
    },
    {
      "cell_type": "code",
      "metadata": {
        "id": "XVxY6TvdT3Wq"
      },
      "source": [
        "# Declarando Booleanos\n",
        "verdadero = True\n",
        "falso = False"
      ],
      "execution_count": null,
      "outputs": []
    },
    {
      "cell_type": "code",
      "metadata": {
        "colab": {
          "base_uri": "https://localhost:8080/"
        },
        "id": "jdngrwY6hEGM",
        "outputId": "6e90849b-377f-49c3-ce3b-572659ddb9f1"
      },
      "source": [
        "falso"
      ],
      "execution_count": null,
      "outputs": [
        {
          "output_type": "execute_result",
          "data": {
            "text/plain": [
              "False"
            ]
          },
          "metadata": {},
          "execution_count": 36
        }
      ]
    },
    {
      "cell_type": "code",
      "metadata": {
        "id": "EkoVYvtxV1HE"
      },
      "source": [
        "# Declarando Nulos\n",
        "nulo = None"
      ],
      "execution_count": null,
      "outputs": []
    },
    {
      "cell_type": "code",
      "metadata": {
        "colab": {
          "base_uri": "https://localhost:8080/"
        },
        "id": "ePanpd5_yuvs",
        "outputId": "585e5b78-cfba-468a-e255-00165681bd3c"
      },
      "source": [
        "# Asignaciones Múltiples\n",
        "var1, var2, var3 =  ( 5 + 4),  \"Sara\", [13, 17, 23]\n",
        "print( \"variable 1 =\", var1 )\n",
        "print( \"variable 2 =\", var2 )\n",
        "print( \"variable 3 =\", var3 )"
      ],
      "execution_count": null,
      "outputs": [
        {
          "output_type": "stream",
          "name": "stdout",
          "text": [
            "variable 1 = 9\n",
            "variable 2 = Sara\n",
            "variable 3 = [13, 17, 23]\n"
          ]
        }
      ]
    },
    {
      "cell_type": "code",
      "metadata": {
        "colab": {
          "base_uri": "https://localhost:8080/"
        },
        "id": "ng7xqXo1y1OK",
        "outputId": "6631736f-f10f-4e30-938d-fb7b8467eed3"
      },
      "source": [
        "# Cambiar valores entre variables\n",
        "var1, var2 = var2, var1 \n",
        "\n",
        "print( \"var1 =\", var1 )\n",
        "print( \"var2 =\", var2 )"
      ],
      "execution_count": null,
      "outputs": [
        {
          "output_type": "stream",
          "name": "stdout",
          "text": [
            "var1 = Sara\n",
            "var2 = 9\n"
          ]
        }
      ]
    },
    {
      "cell_type": "code",
      "metadata": {
        "colab": {
          "base_uri": "https://localhost:8080/"
        },
        "id": "lzYcQo3xy3X1",
        "outputId": "d9e28b72-6bd1-4ae1-ec9c-4ef067559ef3"
      },
      "source": [
        "# Crear una tupla con variables\n",
        "tupla = var1, var2, var3\n",
        "print(tupla)"
      ],
      "execution_count": null,
      "outputs": [
        {
          "output_type": "stream",
          "name": "stdout",
          "text": [
            "('Sara', 9, [13, 17, 23])\n"
          ]
        }
      ]
    },
    {
      "cell_type": "code",
      "metadata": {
        "colab": {
          "base_uri": "https://localhost:8080/"
        },
        "id": "xmychpyTzbpH",
        "outputId": "7263058c-831f-4b5c-dd73-01570aa7c384"
      },
      "source": [
        "# Asignar valores de una tupla a variables\n",
        "x1, x2, x3 = tupla \n",
        "\n",
        "print( \"  x1 =\", x1, \"   x2 =\", x2, \"   x3 =\", x3 )"
      ],
      "execution_count": null,
      "outputs": [
        {
          "output_type": "stream",
          "name": "stdout",
          "text": [
            "  x1 = Sara    x2 = 9    x3 = [13, 17, 23]\n"
          ]
        }
      ]
    },
    {
      "cell_type": "markdown",
      "metadata": {
        "id": "4oeZ9NOVSrCp"
      },
      "source": [
        "## Tipo de Datos\n",
        "\n",
        "Para conocer el tipo de dato de una variable se usa el metodo `type`\n",
        "\n",
        "```python\n",
        "type(x)\n",
        "````"
      ]
    },
    {
      "cell_type": "code",
      "metadata": {
        "colab": {
          "base_uri": "https://localhost:8080/"
        },
        "id": "3YewJ_loS_Ia",
        "outputId": "106abc16-9085-429c-df1b-62bbd00b6321"
      },
      "source": [
        "print(x)\n",
        "type(x)"
      ],
      "execution_count": null,
      "outputs": [
        {
          "output_type": "stream",
          "name": "stdout",
          "text": [
            "3\n"
          ]
        },
        {
          "output_type": "execute_result",
          "data": {
            "text/plain": [
              "int"
            ]
          },
          "metadata": {},
          "execution_count": 47
        }
      ]
    },
    {
      "cell_type": "code",
      "metadata": {
        "colab": {
          "base_uri": "https://localhost:8080/"
        },
        "id": "G-4cFZyOTCnn",
        "outputId": "6ac5d8a4-5d38-44b1-aea3-f518f7a71739"
      },
      "source": [
        "print(y)\n",
        "type(y)"
      ],
      "execution_count": null,
      "outputs": [
        {
          "output_type": "stream",
          "name": "stdout",
          "text": [
            "2\n"
          ]
        },
        {
          "output_type": "execute_result",
          "data": {
            "text/plain": [
              "int"
            ]
          },
          "metadata": {},
          "execution_count": 49
        }
      ]
    },
    {
      "cell_type": "code",
      "metadata": {
        "colab": {
          "base_uri": "https://localhost:8080/"
        },
        "id": "2f0ISTp8TMQ9",
        "outputId": "1a021685-b0d0-4c16-9822-168d158f8a7a"
      },
      "source": [
        "type(\"mensaje\")\n"
      ],
      "execution_count": null,
      "outputs": [
        {
          "output_type": "execute_result",
          "data": {
            "text/plain": [
              "str"
            ]
          },
          "metadata": {},
          "execution_count": 50
        }
      ]
    },
    {
      "cell_type": "code",
      "metadata": {
        "colab": {
          "base_uri": "https://localhost:8080/"
        },
        "id": "FaIqsmTSh9OA",
        "outputId": "ae213a85-a1c9-48d3-abfe-a66481cc6a99"
      },
      "source": [
        "listaNumeros"
      ],
      "execution_count": null,
      "outputs": [
        {
          "output_type": "execute_result",
          "data": {
            "text/plain": [
              "[1, 2, 3, 4]"
            ]
          },
          "metadata": {},
          "execution_count": 51
        }
      ]
    },
    {
      "cell_type": "code",
      "metadata": {
        "id": "EElQqkS5TDrA",
        "colab": {
          "base_uri": "https://localhost:8080/"
        },
        "outputId": "f85be1d3-6cb7-4cc4-90c2-bc8824fa63e8"
      },
      "source": [
        "type(listaNumeros)"
      ],
      "execution_count": null,
      "outputs": [
        {
          "output_type": "execute_result",
          "data": {
            "text/plain": [
              "list"
            ]
          },
          "metadata": {},
          "execution_count": 52
        }
      ]
    },
    {
      "cell_type": "code",
      "metadata": {
        "id": "h3vxZvYHTFv0",
        "colab": {
          "base_uri": "https://localhost:8080/"
        },
        "outputId": "4a1c71a4-92b1-426a-a302-d3fb2469e8ee"
      },
      "source": [
        "type(tuplaListas)"
      ],
      "execution_count": null,
      "outputs": [
        {
          "output_type": "execute_result",
          "data": {
            "text/plain": [
              "tuple"
            ]
          },
          "metadata": {},
          "execution_count": 55
        }
      ]
    },
    {
      "cell_type": "code",
      "metadata": {
        "id": "htItuqj8THum",
        "colab": {
          "base_uri": "https://localhost:8080/"
        },
        "outputId": "dc140bee-4966-4be7-d081-4b94c0867c44"
      },
      "source": [
        "type(dictCadenas)"
      ],
      "execution_count": null,
      "outputs": [
        {
          "output_type": "execute_result",
          "data": {
            "text/plain": [
              "dict"
            ]
          },
          "metadata": {},
          "execution_count": 56
        }
      ]
    },
    {
      "cell_type": "code",
      "metadata": {
        "id": "Nw0sMJ5jTKP5",
        "colab": {
          "base_uri": "https://localhost:8080/"
        },
        "outputId": "7ea09eab-f743-4ca6-f743-8760fccd96cd"
      },
      "source": [
        "type(verdadero)"
      ],
      "execution_count": null,
      "outputs": [
        {
          "output_type": "execute_result",
          "data": {
            "text/plain": [
              "bool"
            ]
          },
          "metadata": {},
          "execution_count": 57
        }
      ]
    },
    {
      "cell_type": "code",
      "metadata": {
        "id": "KAUkTMqlT_zw",
        "colab": {
          "base_uri": "https://localhost:8080/"
        },
        "outputId": "c9b81bca-6dba-4388-9377-50a280749c87"
      },
      "source": [
        "type(nulo)"
      ],
      "execution_count": null,
      "outputs": [
        {
          "output_type": "execute_result",
          "data": {
            "text/plain": [
              "NoneType"
            ]
          },
          "metadata": {},
          "execution_count": 58
        }
      ]
    },
    {
      "cell_type": "markdown",
      "metadata": {
        "id": "QXww97zYV-tL"
      },
      "source": [
        "## Operadores Aritméticos\n",
        "\n",
        "| Simbolo | Operación |\n",
        "|----|---|\n",
        "| +  | Suma |\n",
        "| -  | Resta |\n",
        "| /  | División |\n",
        "| %  | mod |\n",
        "| *  | multiplicación |\n",
        "| //  | floor division |\n",
        "| **  | exponenciación |\n",
        "| ~   | negación |\n",
        "\n",
        "Python dependiendo del tipo de dato realiza las operaciones."
      ]
    },
    {
      "cell_type": "markdown",
      "metadata": {
        "id": "Id153Sdg3bB1"
      },
      "source": [
        "### Adición y sustracción\n"
      ]
    },
    {
      "cell_type": "code",
      "metadata": {
        "colab": {
          "base_uri": "https://localhost:8080/"
        },
        "id": "SIaOq1g5V407",
        "outputId": "f800bfce-44d6-424d-d6ad-814c26d1d039"
      },
      "source": [
        "print(5 + 5)\n",
        "print(5 - 5)"
      ],
      "execution_count": null,
      "outputs": [
        {
          "output_type": "stream",
          "name": "stdout",
          "text": [
            "10\n",
            "0\n"
          ]
        }
      ]
    },
    {
      "cell_type": "markdown",
      "metadata": {
        "id": "DELKilSR3nPw"
      },
      "source": [
        "### Multiplicación y división\n"
      ]
    },
    {
      "cell_type": "code",
      "metadata": {
        "colab": {
          "base_uri": "https://localhost:8080/"
        },
        "id": "lMphMtfOWXRj",
        "outputId": "4c644a7e-0a75-4bef-9fca-844a64c2a8c8"
      },
      "source": [
        "print(3 * 5)\n",
        "print(10 / 2)"
      ],
      "execution_count": null,
      "outputs": [
        {
          "output_type": "stream",
          "name": "stdout",
          "text": [
            "15\n",
            "5.0\n"
          ]
        }
      ]
    },
    {
      "cell_type": "markdown",
      "metadata": {
        "id": "aUQdXzS83r8D"
      },
      "source": [
        "### Exponenciación y Modulo\n"
      ]
    },
    {
      "cell_type": "code",
      "metadata": {
        "colab": {
          "base_uri": "https://localhost:8080/"
        },
        "id": "JthtByGXWZRX",
        "outputId": "d91b58d4-479b-43a9-da98-7ff3fc2d10d5"
      },
      "source": [
        "print(4**2)\n",
        "print(18 % 7)"
      ],
      "execution_count": null,
      "outputs": [
        {
          "output_type": "stream",
          "name": "stdout",
          "text": [
            "16\n",
            "4\n"
          ]
        }
      ]
    },
    {
      "cell_type": "code",
      "metadata": {
        "colab": {
          "base_uri": "https://localhost:8080/"
        },
        "id": "oKAYEPPsjRPH",
        "outputId": "c5c28d37-842c-4b85-c0f2-9538db470dad"
      },
      "source": [
        "9//5"
      ],
      "execution_count": null,
      "outputs": [
        {
          "output_type": "execute_result",
          "data": {
            "text/plain": [
              "1"
            ]
          },
          "metadata": {},
          "execution_count": 65
        }
      ]
    },
    {
      "cell_type": "markdown",
      "metadata": {
        "id": "LgOsuLrZ3u6f"
      },
      "source": [
        "### Operaciones con cadenas\n"
      ]
    },
    {
      "cell_type": "code",
      "metadata": {
        "colab": {
          "base_uri": "https://localhost:8080/"
        },
        "id": "QYBATeTNWbry",
        "outputId": "136c3c39-c954-4469-d5f5-cb82c2cf2d57"
      },
      "source": [
        "mensaje1 = \"Hola \"\n",
        "mensaje2 = \"Grupo\"\n",
        "print(mensaje1 + mensaje2)"
      ],
      "execution_count": null,
      "outputs": [
        {
          "output_type": "stream",
          "name": "stdout",
          "text": [
            "Hola Grupo\n"
          ]
        }
      ]
    },
    {
      "cell_type": "markdown",
      "metadata": {
        "id": "hfZXvMmA3zMa"
      },
      "source": [
        "### Operaciones con cadenas"
      ]
    },
    {
      "cell_type": "code",
      "metadata": {
        "colab": {
          "base_uri": "https://localhost:8080/"
        },
        "id": "Fo_L_km3vFk2",
        "outputId": "cb30efde-6820-4324-ac2d-e857a725243e"
      },
      "source": [
        "\n",
        "mensaje1 = \"Hola \"\n",
        "print(mensaje1*102)"
      ],
      "execution_count": null,
      "outputs": [
        {
          "output_type": "stream",
          "name": "stdout",
          "text": [
            "Hola Hola Hola Hola Hola Hola Hola Hola Hola Hola Hola Hola Hola Hola Hola Hola Hola Hola Hola Hola Hola Hola Hola Hola Hola Hola Hola Hola Hola Hola Hola Hola Hola Hola Hola Hola Hola Hola Hola Hola Hola Hola Hola Hola Hola Hola Hola Hola Hola Hola Hola Hola Hola Hola Hola Hola Hola Hola Hola Hola Hola Hola Hola Hola Hola Hola Hola Hola Hola Hola Hola Hola Hola Hola Hola Hola Hola Hola Hola Hola Hola Hola Hola Hola Hola Hola Hola Hola Hola Hola Hola Hola Hola Hola Hola Hola Hola Hola Hola Hola Hola Hola \n"
          ]
        }
      ]
    },
    {
      "cell_type": "code",
      "metadata": {
        "colab": {
          "base_uri": "https://localhost:8080/"
        },
        "id": "okHLoEPPe_6_",
        "outputId": "0ae4515e-595c-4399-8813-2c01af0c8c40"
      },
      "source": [
        "print(verdadero + verdadero + verdadero + falso)"
      ],
      "execution_count": null,
      "outputs": [
        {
          "output_type": "stream",
          "name": "stdout",
          "text": [
            "3\n"
          ]
        }
      ]
    },
    {
      "cell_type": "code",
      "metadata": {
        "colab": {
          "base_uri": "https://localhost:8080/"
        },
        "id": "JfFkdW_QfGI1",
        "outputId": "7ce0cf51-754c-4bec-b46f-ff07751bba6f"
      },
      "source": [
        "print(1 + 2.5)"
      ],
      "execution_count": null,
      "outputs": [
        {
          "output_type": "stream",
          "text": [
            "3.5\n"
          ],
          "name": "stdout"
        }
      ]
    },
    {
      "cell_type": "markdown",
      "metadata": {
        "id": "ewhJQUd1xIzk"
      },
      "source": [
        "## Operadores Relacionales\n",
        "\n",
        "| Symbol | Task Performed |\n",
        "|----|---|\n",
        "| == | True, si  los valores son iguales |\n",
        "| is | True, if identical, i.e. the **same** object  |\n",
        "| !=  | True, si no es igual a |\n",
        "| < | menor que |\n",
        "| > | mayor que |\n",
        "| <=  | menor o igual que |\n",
        "| >=  | mayor o igual que |\n",
        "| in  | test pertenece a  (list, set, dictionary) |"
      ]
    },
    {
      "cell_type": "code",
      "metadata": {
        "colab": {
          "base_uri": "https://localhost:8080/"
        },
        "id": "QnO8HZheUSds",
        "outputId": "e6a2118a-73cc-4851-94f3-ac1fbb339555"
      },
      "source": [
        "x"
      ],
      "execution_count": null,
      "outputs": [
        {
          "output_type": "execute_result",
          "data": {
            "text/plain": [
              "3"
            ]
          },
          "metadata": {},
          "execution_count": 71
        }
      ]
    },
    {
      "cell_type": "code",
      "metadata": {
        "colab": {
          "base_uri": "https://localhost:8080/"
        },
        "id": "DX7u7Bwuvqju",
        "outputId": "556cd9fa-4ed9-4f86-a641-ed32b78e762c"
      },
      "source": [
        "print(x)\n",
        "x == 2"
      ],
      "execution_count": null,
      "outputs": [
        {
          "output_type": "stream",
          "name": "stdout",
          "text": [
            "3\n"
          ]
        },
        {
          "output_type": "execute_result",
          "data": {
            "text/plain": [
              "False"
            ]
          },
          "metadata": {},
          "execution_count": 72
        }
      ]
    },
    {
      "cell_type": "code",
      "metadata": {
        "colab": {
          "base_uri": "https://localhost:8080/"
        },
        "id": "_ePQNuWsxVyn",
        "outputId": "71f4f109-eb79-4705-8694-0c71d4b20874"
      },
      "source": [
        "x!= 2"
      ],
      "execution_count": null,
      "outputs": [
        {
          "output_type": "execute_result",
          "data": {
            "text/plain": [
              "True"
            ]
          },
          "metadata": {},
          "execution_count": 73
        }
      ]
    },
    {
      "cell_type": "code",
      "metadata": {
        "colab": {
          "base_uri": "https://localhost:8080/"
        },
        "id": "o0sZeceWxe1q",
        "outputId": "e752d51a-b384-463a-ad74-e936410b5b63"
      },
      "source": [
        "x > 1"
      ],
      "execution_count": null,
      "outputs": [
        {
          "output_type": "execute_result",
          "data": {
            "text/plain": [
              "True"
            ]
          },
          "metadata": {},
          "execution_count": 74
        }
      ]
    },
    {
      "cell_type": "code",
      "source": [
        "nombre1=\"Ramon\"\n",
        "nombre2=\"6\"\n",
        "\n",
        "nombre1 < nombre2"
      ],
      "metadata": {
        "colab": {
          "base_uri": "https://localhost:8080/"
        },
        "id": "GDl7VopAK1uh",
        "outputId": "0b7a59ad-a18a-4d54-ffd2-ae28dce60535"
      },
      "execution_count": null,
      "outputs": [
        {
          "output_type": "execute_result",
          "data": {
            "text/plain": [
              "False"
            ]
          },
          "metadata": {},
          "execution_count": 79
        }
      ]
    },
    {
      "cell_type": "code",
      "metadata": {
        "colab": {
          "base_uri": "https://localhost:8080/"
        },
        "id": "OMzRVPLCU0tY",
        "outputId": "2a48a55d-a649-4a09-e5c7-331d119a4c93"
      },
      "source": [
        "listaNumeros"
      ],
      "execution_count": null,
      "outputs": [
        {
          "output_type": "execute_result",
          "data": {
            "text/plain": [
              "[1, 2, 3, 4]"
            ]
          },
          "metadata": {},
          "execution_count": 80
        }
      ]
    },
    {
      "cell_type": "code",
      "metadata": {
        "colab": {
          "base_uri": "https://localhost:8080/"
        },
        "id": "lSxRyT8yxhXl",
        "outputId": "8b0d61f9-8937-45c3-da4d-8669d22ad527"
      },
      "source": [
        "listaNumeros == [1,2,4,3]"
      ],
      "execution_count": null,
      "outputs": [
        {
          "output_type": "execute_result",
          "data": {
            "text/plain": [
              "False"
            ]
          },
          "metadata": {},
          "execution_count": 81
        }
      ]
    },
    {
      "cell_type": "code",
      "metadata": {
        "colab": {
          "base_uri": "https://localhost:8080/"
        },
        "id": "7xANJ8z0yGiT",
        "outputId": "21e81913-9199-46be-f907-c82a8d463ed6"
      },
      "source": [
        "listaNumeros is [1,2,3,4]"
      ],
      "execution_count": null,
      "outputs": [
        {
          "output_type": "execute_result",
          "data": {
            "text/plain": [
              "False"
            ]
          },
          "metadata": {},
          "execution_count": 82
        }
      ]
    },
    {
      "cell_type": "code",
      "metadata": {
        "id": "jYTQcIrQyNPO"
      },
      "source": [
        "objecto = listaNumeros"
      ],
      "execution_count": null,
      "outputs": []
    },
    {
      "cell_type": "code",
      "metadata": {
        "colab": {
          "base_uri": "https://localhost:8080/"
        },
        "id": "tcfMl4DkySoV",
        "outputId": "0e351e0e-0c80-470a-e02e-5657f45f78dc"
      },
      "source": [
        "listaNumeros is objecto"
      ],
      "execution_count": null,
      "outputs": [
        {
          "output_type": "execute_result",
          "data": {
            "text/plain": [
              "True"
            ]
          },
          "metadata": {
            "tags": []
          },
          "execution_count": 76
        }
      ]
    },
    {
      "cell_type": "code",
      "metadata": {
        "id": "d0ukty2gyU_g",
        "colab": {
          "base_uri": "https://localhost:8080/"
        },
        "outputId": "cf42d1d7-ff9b-4f73-b6ed-c4f76868beb0"
      },
      "source": [
        "nulo is None"
      ],
      "execution_count": null,
      "outputs": [
        {
          "output_type": "execute_result",
          "data": {
            "text/plain": [
              "True"
            ]
          },
          "metadata": {
            "tags": []
          },
          "execution_count": 77
        }
      ]
    },
    {
      "cell_type": "markdown",
      "metadata": {
        "id": "6wJlJ4wbzryr"
      },
      "source": [
        "## Conversiones entre tipos\n",
        "\n",
        "Python cuenta con la conversión de tipos de datos (*cast* o *casting*) que especifica explicitamente el tipo de dato.\n",
        "\n",
        "```python\n",
        "int(variable)\n",
        "float(variable)\n",
        "str(variable)\n",
        "bool(variable)\n",
        "list(variable)\n",
        "tuple(variable)\n",
        "dict(variable)\n",
        "```"
      ]
    },
    {
      "cell_type": "markdown",
      "metadata": {
        "id": "omLnalrKyoDw"
      },
      "source": [
        "- **Convertir Lista a tupla**\n"
      ]
    },
    {
      "cell_type": "code",
      "metadata": {
        "id": "ISaM6FKyyZ3M",
        "colab": {
          "base_uri": "https://localhost:8080/"
        },
        "outputId": "6a281395-1204-414d-99ec-f4a60bd719be"
      },
      "source": [
        "print(listaCadenas)\n",
        "print(type(listaCadenas))\n",
        "print(tuple(listaCadenas))\n",
        "print(type(tuple(listaCadenas)))"
      ],
      "execution_count": null,
      "outputs": [
        {
          "output_type": "stream",
          "text": [
            "['a', 'b', 'c', 'Juan']\n",
            "<class 'list'>\n",
            "('a', 'b', 'c', 'Juan')\n",
            "<class 'tuple'>\n"
          ],
          "name": "stdout"
        }
      ]
    },
    {
      "cell_type": "code",
      "metadata": {
        "id": "UBIJVcId0wW8",
        "colab": {
          "base_uri": "https://localhost:8080/"
        },
        "outputId": "8f0cb451-9f08-48b0-a971-1d8d11789c06"
      },
      "source": [
        "# Convertir de cadena a entero\n",
        "print('123')\n",
        "print(type('123'))\n",
        "print(int('123'))\n",
        "print(type(int('123')))"
      ],
      "execution_count": null,
      "outputs": [
        {
          "output_type": "stream",
          "text": [
            "123\n",
            "<class 'str'>\n",
            "123\n",
            "<class 'int'>\n"
          ],
          "name": "stdout"
        }
      ]
    },
    {
      "cell_type": "markdown",
      "metadata": {
        "id": "DVpFtIj32mmw"
      },
      "source": [
        "## **Funciones Integradas (Built-in Functions)**\n",
        "\n",
        "**Funciones:** Una función es un bloque de código con un nombre asociado, que recibe $0$ o más argumentos como entrada, sigue una serie de instrucciones y devuelve un valor o realiza una tarea.\n",
        "\n",
        "Python dispone de una serie de funciones intregradas al lenguaje( [built-in](https://docs.python.org/3/library/functions.html))\n",
        "\n",
        "Un ejemplo de estas funciones son las vistas en los anteriores puntos como las de convertir tipos de datos y la de imprimir."
      ]
    },
    {
      "cell_type": "markdown",
      "metadata": {
        "id": "vhbNNcBKzRbG"
      },
      "source": [
        "-  **Ingresar valor por teclado**\n"
      ]
    },
    {
      "cell_type": "code",
      "metadata": {
        "colab": {
          "base_uri": "https://localhost:8080/"
        },
        "id": "Qb6bB4_w2HyO",
        "outputId": "ac28bb51-70d0-40c0-d6ab-69cb68a57435"
      },
      "source": [
        "entrada = int(input(\"Ingrese un número entero: \"))\n",
        "print(entrada**2)"
      ],
      "execution_count": null,
      "outputs": [
        {
          "output_type": "stream",
          "text": [
            "Ingrese un número entero: 7\n",
            "49\n"
          ],
          "name": "stdout"
        }
      ]
    },
    {
      "cell_type": "code",
      "metadata": {
        "colab": {
          "base_uri": "https://localhost:8080/"
        },
        "id": "HjRNCpJohOKw",
        "outputId": "b3ee2901-00be-4db6-f2cb-a38d922ea95e"
      },
      "source": [
        "# Ingresar valor por teclado\n",
        "entrada = input(\"Ingrese un número entero: \")\n",
        "print(entrada*2)"
      ],
      "execution_count": null,
      "outputs": [
        {
          "output_type": "stream",
          "text": [
            "Ingrese un número entero: 7\n",
            "77\n"
          ],
          "name": "stdout"
        }
      ]
    },
    {
      "cell_type": "code",
      "metadata": {
        "id": "woZoZTWq4Gtt",
        "colab": {
          "base_uri": "https://localhost:8080/"
        },
        "outputId": "e4ce38db-006b-4d86-ded9-1fa2be6291e4"
      },
      "source": [
        "2# Valor absoluto de un numero\n",
        "print(abs(-9.6))"
      ],
      "execution_count": null,
      "outputs": [
        {
          "output_type": "stream",
          "text": [
            "9.6\n"
          ],
          "name": "stdout"
        }
      ]
    },
    {
      "cell_type": "markdown",
      "metadata": {
        "id": "N40jkNVI4YmN"
      },
      "source": [
        "### **Ejercicio 1:**\n",
        "\n",
        "\n",
        "Ejecute las siguientes 3 celdas e infiera lo que hace la función `round` incorporada con uno o dos argumentos."
      ]
    },
    {
      "cell_type": "code",
      "metadata": {
        "colab": {
          "base_uri": "https://localhost:8080/"
        },
        "id": "VkyhSmMk4RaH",
        "outputId": "5edb708d-be42-427c-a91d-cfac7941551f"
      },
      "source": [
        "round( -4.738 )"
      ],
      "execution_count": null,
      "outputs": [
        {
          "output_type": "execute_result",
          "data": {
            "text/plain": [
              "-5"
            ]
          },
          "metadata": {},
          "execution_count": 9
        }
      ]
    },
    {
      "cell_type": "code",
      "metadata": {
        "colab": {
          "base_uri": "https://localhost:8080/"
        },
        "id": "WapQDqox4cHj",
        "outputId": "eb490f71-2437-46c5-9442-cde7a326ef25"
      },
      "source": [
        "round( -3.141516297, 4 )"
      ],
      "execution_count": null,
      "outputs": [
        {
          "output_type": "execute_result",
          "data": {
            "text/plain": [
              "-3.1415"
            ]
          },
          "metadata": {},
          "execution_count": 10
        }
      ]
    },
    {
      "cell_type": "code",
      "metadata": {
        "colab": {
          "base_uri": "https://localhost:8080/"
        },
        "id": "-U7anAw14hOp",
        "outputId": "38cf48db-44b5-4775-efdc-c5f611a261be"
      },
      "source": [
        "round( -3.141516297, 5 )"
      ],
      "execution_count": null,
      "outputs": [
        {
          "output_type": "execute_result",
          "data": {
            "text/plain": [
              "-3.14152"
            ]
          },
          "metadata": {
            "tags": []
          },
          "execution_count": 92
        }
      ]
    },
    {
      "cell_type": "markdown",
      "metadata": {
        "id": "08Nk8EON4nI-"
      },
      "source": [
        "### Ejercicio 2:\n",
        "\n",
        "\n",
        "Desde la pagina de las funciones integradas [built-in](https://docs.python.org/3/library/functions.html), consulte la forma de usar la función `min()` y `max()`.\n",
        "\n",
        "- Cree una lista con los valores 42, 17 y 68.\n",
        "- Usando la función `min()`, imprima el valor minimo.\n",
        "- Usando la función `max()`, imprima el valor maximo.\n",
        "- Validar si hay una función que me devuelva la suma?"
      ]
    },
    {
      "cell_type": "code",
      "metadata": {
        "id": "Be4ueHtS48L9",
        "colab": {
          "base_uri": "https://localhost:8080/"
        },
        "outputId": "9c01bf1f-7345-4cc2-a0db-fe9b49ab4eb9"
      },
      "source": [
        "# Su Código \n",
        "listaNumeros = [42,17,68]\n",
        "print(listaNumeros)\n",
        "\n",
        "min(listaNumeros)\n",
        "print('EL MÍNIMO ES :', min(listaNumeros))\n",
        "max(listaNumeros)\n",
        "print(max(listaNumeros))\n",
        "sum(listaNumeros)\n",
        "print(sum(listaNumeros))"
      ],
      "execution_count": null,
      "outputs": [
        {
          "output_type": "stream",
          "text": [
            "[42, 17, 68]\n",
            "EL MÍNIMO ES : 17\n",
            "68\n",
            "127\n"
          ],
          "name": "stdout"
        }
      ]
    },
    {
      "cell_type": "markdown",
      "metadata": {
        "id": "4npEXB33zL9E"
      },
      "source": [
        "*Doble*-click __Aquí__ Para ver la solución.\n",
        "\n",
        "<!-- Una posible solución:\n",
        "a=[42,17,68]\n",
        "print(min(a))\n",
        "print(max(a))\n",
        "print(sum(a))\n",
        "-->"
      ]
    },
    {
      "cell_type": "markdown",
      "metadata": {
        "id": "8EcYyyUg5sje"
      },
      "source": [
        "## Ayuda \n",
        "\n",
        "Python cuenta con `help()` y `?` que nos devuelve una descripción de la función que queremos conocer."
      ]
    },
    {
      "cell_type": "code",
      "metadata": {
        "id": "FhI6URox5r1C",
        "colab": {
          "base_uri": "https://localhost:8080/"
        },
        "outputId": "338e35e7-7bf8-4258-d5b7-3e7bd1e12541"
      },
      "source": [
        "help(range)"
      ],
      "execution_count": null,
      "outputs": [
        {
          "output_type": "stream",
          "text": [
            "Help on class range in module builtins:\n",
            "\n",
            "class range(object)\n",
            " |  range(stop) -> range object\n",
            " |  range(start, stop[, step]) -> range object\n",
            " |  \n",
            " |  Return an object that produces a sequence of integers from start (inclusive)\n",
            " |  to stop (exclusive) by step.  range(i, j) produces i, i+1, i+2, ..., j-1.\n",
            " |  start defaults to 0, and stop is omitted!  range(4) produces 0, 1, 2, 3.\n",
            " |  These are exactly the valid indices for a list of 4 elements.\n",
            " |  When step is given, it specifies the increment (or decrement).\n",
            " |  \n",
            " |  Methods defined here:\n",
            " |  \n",
            " |  __bool__(self, /)\n",
            " |      self != 0\n",
            " |  \n",
            " |  __contains__(self, key, /)\n",
            " |      Return key in self.\n",
            " |  \n",
            " |  __eq__(self, value, /)\n",
            " |      Return self==value.\n",
            " |  \n",
            " |  __ge__(self, value, /)\n",
            " |      Return self>=value.\n",
            " |  \n",
            " |  __getattribute__(self, name, /)\n",
            " |      Return getattr(self, name).\n",
            " |  \n",
            " |  __getitem__(self, key, /)\n",
            " |      Return self[key].\n",
            " |  \n",
            " |  __gt__(self, value, /)\n",
            " |      Return self>value.\n",
            " |  \n",
            " |  __hash__(self, /)\n",
            " |      Return hash(self).\n",
            " |  \n",
            " |  __iter__(self, /)\n",
            " |      Implement iter(self).\n",
            " |  \n",
            " |  __le__(self, value, /)\n",
            " |      Return self<=value.\n",
            " |  \n",
            " |  __len__(self, /)\n",
            " |      Return len(self).\n",
            " |  \n",
            " |  __lt__(self, value, /)\n",
            " |      Return self<value.\n",
            " |  \n",
            " |  __ne__(self, value, /)\n",
            " |      Return self!=value.\n",
            " |  \n",
            " |  __reduce__(...)\n",
            " |      Helper for pickle.\n",
            " |  \n",
            " |  __repr__(self, /)\n",
            " |      Return repr(self).\n",
            " |  \n",
            " |  __reversed__(...)\n",
            " |      Return a reverse iterator.\n",
            " |  \n",
            " |  count(...)\n",
            " |      rangeobject.count(value) -> integer -- return number of occurrences of value\n",
            " |  \n",
            " |  index(...)\n",
            " |      rangeobject.index(value) -> integer -- return index of value.\n",
            " |      Raise ValueError if the value is not present.\n",
            " |  \n",
            " |  ----------------------------------------------------------------------\n",
            " |  Static methods defined here:\n",
            " |  \n",
            " |  __new__(*args, **kwargs) from builtins.type\n",
            " |      Create and return a new object.  See help(type) for accurate signature.\n",
            " |  \n",
            " |  ----------------------------------------------------------------------\n",
            " |  Data descriptors defined here:\n",
            " |  \n",
            " |  start\n",
            " |  \n",
            " |  step\n",
            " |  \n",
            " |  stop\n",
            "\n"
          ],
          "name": "stdout"
        }
      ]
    },
    {
      "cell_type": "code",
      "metadata": {
        "id": "NwiBPFNL4htU"
      },
      "source": [
        "?range"
      ],
      "execution_count": null,
      "outputs": []
    },
    {
      "cell_type": "code",
      "metadata": {
        "colab": {
          "base_uri": "https://localhost:8080/"
        },
        "id": "nAq2gHbgpC1F",
        "outputId": "9b779ca4-1005-454f-9e72-80c67ea551a2"
      },
      "source": [
        "list(range(9))"
      ],
      "execution_count": null,
      "outputs": [
        {
          "output_type": "execute_result",
          "data": {
            "text/plain": [
              "[0, 1, 2, 3, 4, 5, 6, 7, 8]"
            ]
          },
          "metadata": {
            "tags": []
          },
          "execution_count": 105
        }
      ]
    },
    {
      "cell_type": "markdown",
      "metadata": {
        "id": "LVu8VIk46X8P"
      },
      "source": [
        "### Ejercicio 3:\n",
        "\n",
        "Cree una variable llamada rango y asignele range(1, 100, 5), luego imprima la variable convirtiendola primero a lista, cual es el resultado?"
      ]
    },
    {
      "cell_type": "code",
      "metadata": {
        "id": "VH9a6FPw6Q5o",
        "colab": {
          "base_uri": "https://localhost:8080/"
        },
        "outputId": "2e88656a-a823-44c3-d809-a35b6d45d937"
      },
      "source": [
        "# Su código\n",
        "rango=list(range(1,100,5))\n",
        "rango"
      ],
      "execution_count": null,
      "outputs": [
        {
          "output_type": "execute_result",
          "data": {
            "text/plain": [
              "[1, 6, 11, 16, 21, 26, 31, 36, 41, 46, 51, 56, 61, 66, 71, 76, 81, 86, 91, 96]"
            ]
          },
          "metadata": {
            "tags": []
          },
          "execution_count": 106
        }
      ]
    },
    {
      "cell_type": "markdown",
      "metadata": {
        "id": "Q8gb4Oeu64PR"
      },
      "source": [
        "## **Manejo de Strings**\n",
        "\n",
        "**IMPORTANTE:** Strings pueden ser definidos con doble comilla `(\"...\")` or comilla simple `('...')`, las dos sintaxis hacen exactamente lo mismo!"
      ]
    },
    {
      "cell_type": "code",
      "metadata": {
        "id": "jSLgU0z66-zg",
        "colab": {
          "base_uri": "https://localhost:8080/"
        },
        "outputId": "48add21c-cd5c-4400-e142-0ae891089475"
      },
      "source": [
        "'Juan' == \"Juan\""
      ],
      "execution_count": null,
      "outputs": [
        {
          "output_type": "execute_result",
          "data": {
            "text/plain": [
              "True"
            ]
          },
          "metadata": {
            "tags": []
          },
          "execution_count": 83
        }
      ]
    },
    {
      "cell_type": "code",
      "metadata": {
        "id": "GKPmUo9t7BGL",
        "colab": {
          "base_uri": "https://localhost:8080/"
        },
        "outputId": "26f868fb-ebd3-4a73-a863-16c47d508f44"
      },
      "source": [
        "'Juan dice: \"si\"' == \"Juan dice: \\\"si\\\"\""
      ],
      "execution_count": null,
      "outputs": [
        {
          "output_type": "execute_result",
          "data": {
            "text/plain": [
              "True"
            ]
          },
          "metadata": {
            "tags": []
          },
          "execution_count": 85
        }
      ]
    },
    {
      "cell_type": "code",
      "metadata": {
        "id": "JBC5jESk7Cg5",
        "colab": {
          "base_uri": "https://localhost:8080/"
        },
        "outputId": "7d37c3bb-231a-4870-ea66-ba22f14469c2"
      },
      "source": [
        "\"Juan's sisters\" == 'Juan\\'s sisters' "
      ],
      "execution_count": null,
      "outputs": [
        {
          "output_type": "execute_result",
          "data": {
            "text/plain": [
              "True"
            ]
          },
          "metadata": {
            "tags": []
          },
          "execution_count": 79
        }
      ]
    },
    {
      "cell_type": "code",
      "metadata": {
        "id": "AecDLAtz7EaW",
        "colab": {
          "base_uri": "https://localhost:8080/",
          "height": 35
        },
        "outputId": "0282bfd3-e399-4780-e96f-8b97b8430221"
      },
      "source": [
        "'I feel \\U0001F604'"
      ],
      "execution_count": null,
      "outputs": [
        {
          "output_type": "execute_result",
          "data": {
            "application/vnd.google.colaboratory.intrinsic+json": {
              "type": "string"
            },
            "text/plain": [
              "'I feel 😄'"
            ]
          },
          "metadata": {
            "tags": []
          },
          "execution_count": 86
        }
      ]
    },
    {
      "cell_type": "markdown",
      "metadata": {
        "id": "q2HaBEgu7Q09"
      },
      "source": [
        "### Interpolación de Cadenas\n",
        "\n",
        "El camino más facil para insertar dinamicamente variable en cadenas es a través de la interpolación de cadenas usando:\n",
        "\n",
        "la sintaxis `f\"....{var1}... {var2}\"`."
      ]
    },
    {
      "cell_type": "code",
      "metadata": {
        "colab": {
          "base_uri": "https://localhost:8080/",
          "height": 35
        },
        "id": "XvtpEddD7N34",
        "outputId": "8415d70c-3fa2-4f5f-bb01-ba1a0507c5b0"
      },
      "source": [
        "juans_height = 1.70\n",
        "num_siblings = 2 \n",
        "\n",
        "f\"Juan mide {juans_height} metros y tiene {num_siblings} hermanos\""
      ],
      "execution_count": null,
      "outputs": [
        {
          "output_type": "execute_result",
          "data": {
            "application/vnd.google.colaboratory.intrinsic+json": {
              "type": "string"
            },
            "text/plain": [
              "'Juan mide 1.7 metros y tiene 2 hermanos'"
            ]
          },
          "metadata": {
            "tags": []
          },
          "execution_count": 87
        }
      ]
    },
    {
      "cell_type": "markdown",
      "metadata": {
        "id": "aR8X5EiE7coN"
      },
      "source": [
        "También se puede especificar la precisión con la sintaxis `\"...{var:.#f}...\"`, donde `#` es el número de digitos decimales."
      ]
    },
    {
      "cell_type": "code",
      "metadata": {
        "colab": {
          "base_uri": "https://localhost:8080/",
          "height": 35
        },
        "id": "MYGFxfZw7GIg",
        "outputId": "3985aa1c-2683-4e77-a247-7326a7bddf17"
      },
      "source": [
        "f\"Juan mide {juans_height:.2f} metros\""
      ],
      "execution_count": null,
      "outputs": [
        {
          "output_type": "execute_result",
          "data": {
            "application/vnd.google.colaboratory.intrinsic+json": {
              "type": "string"
            },
            "text/plain": [
              "'Juan mide 1.70 metros'"
            ]
          },
          "metadata": {
            "tags": []
          },
          "execution_count": 90
        }
      ]
    },
    {
      "cell_type": "markdown",
      "metadata": {
        "id": "5eaX-VOl8gNH"
      },
      "source": [
        "Expresiones Full incluyendo llamado a funciones:"
      ]
    },
    {
      "cell_type": "code",
      "metadata": {
        "colab": {
          "base_uri": "https://localhost:8080/",
          "height": 35
        },
        "id": "kd7aEh247fiA",
        "outputId": "1b556f46-dea1-4440-f718-b579badcf4e1"
      },
      "source": [
        "luisas_height = 1.60\n",
        "f\"Juan es { round( (juans_height - luisas_height)* 100 )  } cm más alto que Luisa\""
      ],
      "execution_count": null,
      "outputs": [
        {
          "output_type": "execute_result",
          "data": {
            "application/vnd.google.colaboratory.intrinsic+json": {
              "type": "string"
            },
            "text/plain": [
              "'Juan es 10 cm más alto que Luisa'"
            ]
          },
          "metadata": {
            "tags": []
          },
          "execution_count": 91
        }
      ]
    },
    {
      "cell_type": "markdown",
      "metadata": {
        "id": "9k8nP6KfUqP-"
      },
      "source": [
        "Una sintaxis ligeramente más nueva y que mejor utiliza el método de formato en cadenas:"
      ]
    },
    {
      "cell_type": "code",
      "metadata": {
        "id": "LQZPEbML8jE1",
        "colab": {
          "base_uri": "https://localhost:8080/",
          "height": 35
        },
        "outputId": "146e595b-554d-4d9a-94f7-02dd22db436b"
      },
      "source": [
        "\"Juan es {jh} metros y  tiene {ns} hermanos\".format( jh= juans_height, ns=num_siblings  )"
      ],
      "execution_count": null,
      "outputs": [
        {
          "output_type": "execute_result",
          "data": {
            "application/vnd.google.colaboratory.intrinsic+json": {
              "type": "string"
            },
            "text/plain": [
              "'Juan es 1.7 metros y  tiene 2 hermanos'"
            ]
          },
          "metadata": {
            "tags": []
          },
          "execution_count": 93
        }
      ]
    },
    {
      "cell_type": "markdown",
      "metadata": {
        "id": "1apCM1CGUwW1"
      },
      "source": [
        "La siguiente es también una solución común simple, aunque no la más eficiente."
      ]
    },
    {
      "cell_type": "code",
      "metadata": {
        "id": "TBunBtXjUsoR",
        "colab": {
          "base_uri": "https://localhost:8080/",
          "height": 35
        },
        "outputId": "104d8198-7cd4-4e85-d23c-def06acf5927"
      },
      "source": [
        "\"Juan mide \" + str(juans_height) + \" metros y  tiene \" + str(num_siblings) + \" hermanos\" "
      ],
      "execution_count": null,
      "outputs": [
        {
          "output_type": "execute_result",
          "data": {
            "application/vnd.google.colaboratory.intrinsic+json": {
              "type": "string"
            },
            "text/plain": [
              "'Juan mide 1.7 metros y  tiene 2 hermanos'"
            ]
          },
          "metadata": {
            "tags": []
          },
          "execution_count": 94
        }
      ]
    },
    {
      "cell_type": "markdown",
      "metadata": {
        "id": "moIWuEuSVDeY"
      },
      "source": [
        "Como en C/Java, etc., una cadena puede también contener códigos especiales como salto de linea `('\\n')` y tabulación `('\\t')`."
      ]
    },
    {
      "cell_type": "code",
      "metadata": {
        "colab": {
          "base_uri": "https://localhost:8080/"
        },
        "id": "muMtTOvCUyTA",
        "outputId": "85d00ba3-5991-4d4f-9445-44ffc0f0c075"
      },
      "source": [
        "a_str = f\"Juan mide {juans_height} metros \\n \\t y tiene {num_siblings} hermanos \\n menores\"\n",
        "print( a_str )"
      ],
      "execution_count": null,
      "outputs": [
        {
          "output_type": "stream",
          "text": [
            "Juan mide 1.7 metros \n",
            " \t y tiene 2 hermanos \n",
            " menores\n"
          ],
          "name": "stdout"
        }
      ]
    },
    {
      "cell_type": "code",
      "metadata": {
        "colab": {
          "base_uri": "https://localhost:8080/"
        },
        "id": "_uc-jUgOxbNz",
        "outputId": "e9c87aa5-f041-46bb-b417-5ecd64c2d1ad"
      },
      "source": [
        "# Cambiar el texto\n",
        "print('hola mundo congreso'.capitalize())\n",
        "print('hola mundo congreso'.title())\n",
        "print('hola MUndO '.upper())\n",
        "print('HOLA MUNDO CONGRESO'.lower())\n",
        "print('  123456  '.lstrip())\n",
        "print('  123456  '.rstrip())\n",
        "print('  123456  78  '.strip())"
      ],
      "execution_count": null,
      "outputs": [
        {
          "output_type": "stream",
          "text": [
            "Hola mundo congreso\n",
            "Hola Mundo Congreso\n",
            "HOLA MUNDO \n",
            "hola mundo congreso\n",
            "123456  \n",
            "  123456\n",
            "123456  78\n"
          ],
          "name": "stdout"
        }
      ]
    },
    {
      "cell_type": "markdown",
      "metadata": {
        "id": "6NdL5f9_75WC"
      },
      "source": [
        "- **Buscando en el texto**\n"
      ]
    },
    {
      "cell_type": "code",
      "metadata": {
        "colab": {
          "base_uri": "https://localhost:8080/"
        },
        "id": "DbaQj47XxbN0",
        "outputId": "4e2fbb4c-9167-4806-ef9d-b828d5630dcb"
      },
      "source": [
        "print('hola mundo full'.count('l'))\n",
        "print('hola mundo full'.endswith('l'))\n",
        "print('hola mundo full'.startswith('m'))\n",
        "print('hola mundo full'.find('o'))\n",
        "print('hola mundo full'.find('z'))\n",
        "print('hola mundo full'.index('o'))\n",
        "print('hello23'.isalnum()) # Devuelve true si todos los caracteres de la cadena son alfanuméricos y hay al menos un carácter, false en caso contrario.\n",
        "print('123456'.isdigit()) # Devuelve true si todos los caracteres de la cadena son dígitos y hay al menos un carácter, false en caso contrario. \n",
        "print('hola'.isalpha()) # Devuelve true si todos los caracteres de la cadena son alfabéticos y hay al menos un carácter, false en caso contrario."
      ],
      "execution_count": null,
      "outputs": [
        {
          "output_type": "stream",
          "text": [
            "3\n",
            "True\n",
            "False\n",
            "1\n",
            "-1\n",
            "1\n",
            "True\n",
            "True\n",
            "True\n"
          ],
          "name": "stdout"
        }
      ]
    },
    {
      "cell_type": "code",
      "metadata": {
        "colab": {
          "base_uri": "https://localhost:8080/",
          "height": 35
        },
        "id": "wu-deiY0Yam5",
        "outputId": "e41deee0-6516-4156-8db3-d003135dcb4d"
      },
      "source": [
        "Nombre='WILSON SANDOVAL RODRIGUEZ'\n",
        "Nombre.capitalize()"
      ],
      "execution_count": null,
      "outputs": [
        {
          "output_type": "execute_result",
          "data": {
            "application/vnd.google.colaboratory.intrinsic+json": {
              "type": "string"
            },
            "text/plain": [
              "'Wilson sandoval rodriguez'"
            ]
          },
          "metadata": {
            "tags": []
          },
          "execution_count": 99
        }
      ]
    },
    {
      "cell_type": "code",
      "metadata": {
        "colab": {
          "base_uri": "https://localhost:8080/"
        },
        "id": "XhUjv2_XxbN0",
        "outputId": "8f4b12cc-3f59-40da-da5e-ccbd596acf89"
      },
      "source": [
        "# Otras funciones\n",
        "print('hello'.center(50,'-'))\n",
        "print('123456'.zfill(7))"
      ],
      "execution_count": null,
      "outputs": [
        {
          "output_type": "stream",
          "text": [
            "----------------------hello-----------------------\n",
            "0123456\n"
          ],
          "name": "stdout"
        }
      ]
    },
    {
      "cell_type": "markdown",
      "metadata": {
        "id": "ogKJg_EnV6Rz"
      },
      "source": [
        "### **Indexación de Cadenas**\n",
        "\n",
        "Las cadenas de Python son cadenas de caracteres, y cada carácter reside en un índice a partir de $0$ (para el primer carácter) y terminando en longitud de cadena $-1$ (para el último carácter).\n",
        "\n",
        "|G|r|u|p|o|\n",
        "|-|-|-|-|-|\n",
        "|0|1|2|3|4|\n",
        "|-|-|-|-|-|\n",
        "|-5|-4|-3|-2|-1|\n"
      ]
    },
    {
      "cell_type": "code",
      "metadata": {
        "id": "eH2_X2f_VHb_"
      },
      "source": [
        "cadena = \"Juan's height u\""
      ],
      "execution_count": null,
      "outputs": []
    },
    {
      "cell_type": "code",
      "metadata": {
        "colab": {
          "base_uri": "https://localhost:8080/"
        },
        "id": "NxDyPy2eX-c3",
        "outputId": "807d422b-72b1-485b-b553-df011696d6c7"
      },
      "source": [
        "print(\"Primer caracter: \",cadena[1])\n",
        "print(\"Ultimo caracter: \",cadena[-3])"
      ],
      "execution_count": null,
      "outputs": [
        {
          "output_type": "stream",
          "text": [
            "Primer caracter:  u\n",
            "Ultimo caracter:  t\n"
          ],
          "name": "stdout"
        }
      ]
    },
    {
      "cell_type": "code",
      "metadata": {
        "id": "anXi-2fLYBA7",
        "colab": {
          "base_uri": "https://localhost:8080/"
        },
        "outputId": "d343671c-1cc9-4705-e2b5-7de3cb9e5eb8"
      },
      "source": [
        "print(type(cadena[0]))"
      ],
      "execution_count": null,
      "outputs": [
        {
          "output_type": "stream",
          "text": [
            "<class 'str'>\n"
          ],
          "name": "stdout"
        }
      ]
    },
    {
      "cell_type": "markdown",
      "metadata": {
        "id": "qrpLrpeZYUvH"
      },
      "source": [
        "Las cadenas son inmutables"
      ]
    },
    {
      "cell_type": "code",
      "metadata": {
        "colab": {
          "base_uri": "https://localhost:8080/",
          "height": 167
        },
        "id": "9uvqrUN7YPk2",
        "outputId": "8fb7cba8-671f-46df-cbe5-29c9b56e3a8e"
      },
      "source": [
        "cadena[1] = 'o'"
      ],
      "execution_count": null,
      "outputs": [
        {
          "output_type": "error",
          "ename": "TypeError",
          "evalue": "ignored",
          "traceback": [
            "\u001b[0;31m---------------------------------------------------------------------------\u001b[0m",
            "\u001b[0;31mTypeError\u001b[0m                                 Traceback (most recent call last)",
            "\u001b[0;32m<ipython-input-106-00a3dd25daf6>\u001b[0m in \u001b[0;36m<module>\u001b[0;34m()\u001b[0m\n\u001b[0;32m----> 1\u001b[0;31m \u001b[0mcadena\u001b[0m\u001b[0;34m[\u001b[0m\u001b[0;36m1\u001b[0m\u001b[0;34m]\u001b[0m \u001b[0;34m=\u001b[0m \u001b[0;34m'o'\u001b[0m\u001b[0;34m\u001b[0m\u001b[0;34m\u001b[0m\u001b[0m\n\u001b[0m",
            "\u001b[0;31mTypeError\u001b[0m: 'str' object does not support item assignment"
          ]
        }
      ]
    },
    {
      "cell_type": "markdown",
      "metadata": {
        "id": "Qgn2BDHPZSlV"
      },
      "source": [
        "Si se desea cambiar el valor de un caracter de una cadena se debe de usar las funciones propias del objeto string."
      ]
    },
    {
      "cell_type": "code",
      "metadata": {
        "colab": {
          "base_uri": "https://localhost:8080/",
          "height": 35
        },
        "id": "vz3CFTw0ZR4l",
        "outputId": "216c121a-c6cc-4ab3-c213-def5718b87d9"
      },
      "source": [
        "str.replace(cadena,'u','o')"
      ],
      "execution_count": null,
      "outputs": [
        {
          "output_type": "execute_result",
          "data": {
            "application/vnd.google.colaboratory.intrinsic+json": {
              "type": "string"
            },
            "text/plain": [
              "\"Joan's height o\""
            ]
          },
          "metadata": {
            "tags": []
          },
          "execution_count": 107
        }
      ]
    },
    {
      "cell_type": "code",
      "metadata": {
        "colab": {
          "base_uri": "https://localhost:8080/",
          "height": 35
        },
        "id": "SwFs43R4XEb3",
        "outputId": "a4b8d724-01b0-40c4-a5a1-9c890c6f9117"
      },
      "source": [
        "cadena"
      ],
      "execution_count": null,
      "outputs": [
        {
          "output_type": "execute_result",
          "data": {
            "application/vnd.google.colaboratory.intrinsic+json": {
              "type": "string"
            },
            "text/plain": [
              "\"Juan's height u\""
            ]
          },
          "metadata": {
            "tags": []
          },
          "execution_count": 108
        }
      ]
    },
    {
      "cell_type": "code",
      "metadata": {
        "id": "jQRoC1ccuaPO",
        "colab": {
          "base_uri": "https://localhost:8080/"
        },
        "outputId": "fb014a33-f378-42b8-f981-c9a5f7e966c8"
      },
      "source": [
        "cadena = str.replace(cadena,'u','o')\n",
        "print(cadena)"
      ],
      "execution_count": null,
      "outputs": [
        {
          "output_type": "stream",
          "text": [
            "Joan's height o\n"
          ],
          "name": "stdout"
        }
      ]
    },
    {
      "cell_type": "markdown",
      "metadata": {
        "id": "-NR8eEZuZ8CI"
      },
      "source": [
        "Si se desea conocer el tamaño de la cadena de caracteres se usa el metodo `len(cadena)`.\n",
        "\n",
        "\n",
        "\n",
        "``` python\n",
        "len(cadena)\n",
        "```\n",
        "\n"
      ]
    },
    {
      "cell_type": "code",
      "metadata": {
        "colab": {
          "base_uri": "https://localhost:8080/"
        },
        "id": "R-DN26BbYaKe",
        "outputId": "d38be003-eadd-4652-85fd-f3da69521edc"
      },
      "source": [
        "len(cadena)"
      ],
      "execution_count": null,
      "outputs": [
        {
          "output_type": "execute_result",
          "data": {
            "text/plain": [
              "15"
            ]
          },
          "metadata": {
            "tags": []
          },
          "execution_count": 110
        }
      ]
    },
    {
      "cell_type": "markdown",
      "metadata": {
        "id": "dRYVXYPbg-Up"
      },
      "source": [
        "Si se desea conocer si un caracter esta en una cadena de caracteres se usa el operador `in`."
      ]
    },
    {
      "cell_type": "code",
      "metadata": {
        "colab": {
          "base_uri": "https://localhost:8080/"
        },
        "id": "Em3epH4FgyuK",
        "outputId": "c137cd9d-921f-46dd-cf8c-898f5d13713a"
      },
      "source": [
        "'o' in cadena"
      ],
      "execution_count": null,
      "outputs": [
        {
          "output_type": "execute_result",
          "data": {
            "text/plain": [
              "True"
            ]
          },
          "metadata": {
            "tags": []
          },
          "execution_count": 115
        }
      ]
    },
    {
      "cell_type": "code",
      "metadata": {
        "colab": {
          "base_uri": "https://localhost:8080/"
        },
        "id": "Ulu1LjmE1e_f",
        "outputId": "c8127179-3902-4e3c-d356-2d5d365a2f18"
      },
      "source": [],
      "execution_count": null,
      "outputs": [
        {
          "output_type": "execute_result",
          "data": {
            "text/plain": [
              "False"
            ]
          },
          "metadata": {
            "tags": []
          },
          "execution_count": 103
        }
      ]
    },
    {
      "cell_type": "markdown",
      "metadata": {
        "id": "2ExiuuVDbAjU"
      },
      "source": [
        "### Cortar (Slicing) Cadenas\n",
        "\n",
        "**Slicing** en Python es un camino poderoso para extraer sub-partes de una cadena, listas y tuplas.\n",
        "\n",
        "```\n",
        "str[start:end]\n",
        "````\n",
        "**start**: sub-cadena inicia desde este elemento\n",
        "\n",
        "**end**: fin sub-cadena, excluye el elemento en este index.\n",
        "\n",
        "|G|r|u|p|o|\n",
        "|-|-|-|-|-|\n",
        "|0|1|2|3|4|\n",
        "\n",
        "```python\n",
        "cadena = \"Grupo\"\n",
        "print(cadena[0:2])\n",
        "```\n",
        "|G|r|\n",
        "|-|-|\n",
        "|0|1|\n"
      ]
    },
    {
      "cell_type": "code",
      "metadata": {
        "id": "bYxBWAfha9JH",
        "colab": {
          "base_uri": "https://localhost:8080/"
        },
        "outputId": "659b3094-efb4-4be5-b92f-8e0d441f0af6"
      },
      "source": [
        "cadena = \"Grupo\"\n",
        "print(cadena[0:2])"
      ],
      "execution_count": null,
      "outputs": [
        {
          "output_type": "stream",
          "text": [
            "Gr\n"
          ],
          "name": "stdout"
        }
      ]
    },
    {
      "cell_type": "code",
      "metadata": {
        "id": "RC9_OuVYaDfS",
        "colab": {
          "base_uri": "https://localhost:8080/"
        },
        "outputId": "f3e31f73-2423-4aa6-b396-596904c84023"
      },
      "source": [
        "# Sub-cadena desde la posicion inicial, 4 caracteres.\n",
        "print(cadena[0:4])"
      ],
      "execution_count": null,
      "outputs": [
        {
          "output_type": "stream",
          "text": [
            "Grup\n"
          ],
          "name": "stdout"
        }
      ]
    },
    {
      "cell_type": "code",
      "metadata": {
        "id": "TvEA0WgEcbwD",
        "colab": {
          "base_uri": "https://localhost:8080/"
        },
        "outputId": "bcda2066-f734-4b54-9447-3992085be67c"
      },
      "source": [
        "# Exactamente igual al anterior, solo que el 0 es el índice inicial implícito)\n",
        "print(cadena[:4])"
      ],
      "execution_count": null,
      "outputs": [
        {
          "output_type": "stream",
          "text": [
            "Grup\n"
          ],
          "name": "stdout"
        }
      ]
    },
    {
      "cell_type": "code",
      "metadata": {
        "id": "_BaUosZ4df_C",
        "colab": {
          "base_uri": "https://localhost:8080/"
        },
        "outputId": "95e6b9d9-d071-4e3d-aceb-c9f3ede82d55"
      },
      "source": [
        "# Sub-cadena desde el cuarto caracter hasta el final\n",
        "print(cadena[4:])"
      ],
      "execution_count": null,
      "outputs": [
        {
          "output_type": "stream",
          "text": [
            "o\n"
          ],
          "name": "stdout"
        }
      ]
    },
    {
      "cell_type": "code",
      "metadata": {
        "id": "HhjF7fNzfYSD",
        "colab": {
          "base_uri": "https://localhost:8080/"
        },
        "outputId": "e49bc455-ce0f-49cf-c3a3-b14c21035e24"
      },
      "source": [
        "# Sub-cadena desde el caracter en la posicion 1 hasta el caracter en la posicion 4\n",
        "print(cadena[1:4])"
      ],
      "execution_count": null,
      "outputs": [
        {
          "output_type": "stream",
          "text": [
            "rup\n"
          ],
          "name": "stdout"
        }
      ]
    },
    {
      "cell_type": "code",
      "metadata": {
        "id": "dHhDxLfNfnMP",
        "colab": {
          "base_uri": "https://localhost:8080/"
        },
        "outputId": "2ea1e495-d2bb-4193-83bc-15ae36821563"
      },
      "source": [
        "# Sub-cadena con indices negativos, el -1 es el índice final implícito.\n",
        "print(cadena[-3:])"
      ],
      "execution_count": null,
      "outputs": [
        {
          "output_type": "stream",
          "text": [
            "upo\n"
          ],
          "name": "stdout"
        }
      ]
    },
    {
      "cell_type": "code",
      "metadata": {
        "id": "_43uhB74fwah",
        "colab": {
          "base_uri": "https://localhost:8080/"
        },
        "outputId": "a083b275-9c24-4a08-d8f9-567a7dae09e6"
      },
      "source": [
        "# Sub-cadena con indices negativos\n",
        "print(cadena[-4:-1])"
      ],
      "execution_count": null,
      "outputs": [
        {
          "output_type": "stream",
          "text": [
            "rup\n"
          ],
          "name": "stdout"
        }
      ]
    },
    {
      "cell_type": "markdown",
      "metadata": {
        "id": "7aZp14WQgk-b"
      },
      "source": [
        "## Manejo de Listas\n",
        "\n",
        "Una lista es un arreglo de elementos donde podemos ingresar cualquier tipo de dato, para acceder a estos datos lo podemos hacer mediante un índice."
      ]
    },
    {
      "cell_type": "code",
      "metadata": {
        "id": "rJfiHrfOhdOI",
        "colab": {
          "base_uri": "https://localhost:8080/"
        },
        "outputId": "d14ad20f-c151-426c-8cdb-2181e9a8ad92"
      },
      "source": [
        "lista = [1,2.5,'Grupo',[1,2],10,'Grupo']\n",
        "lista"
      ],
      "execution_count": null,
      "outputs": [
        {
          "output_type": "execute_result",
          "data": {
            "text/plain": [
              "[1, 2.5, 'Grupo', [1, 2], 10, 'Grupo']"
            ]
          },
          "metadata": {
            "tags": []
          },
          "execution_count": 124
        }
      ]
    },
    {
      "cell_type": "code",
      "metadata": {
        "id": "Eqkpt_OehqHd",
        "colab": {
          "base_uri": "https://localhost:8080/"
        },
        "outputId": "bd047f4b-002c-404b-9392-6138c21003b1"
      },
      "source": [
        "print(\"Primer elemento de la lista: \",lista[0])\n",
        "print(\"Ultimo elemento de la lista: \",lista[-1])"
      ],
      "execution_count": null,
      "outputs": [
        {
          "output_type": "stream",
          "text": [
            "Primer elemento de la lista:  1\n",
            "Ultimo elemento de la lista:  Grupo\n"
          ],
          "name": "stdout"
        }
      ]
    },
    {
      "cell_type": "code",
      "metadata": {
        "id": "hrQ2yMfjh-Le",
        "colab": {
          "base_uri": "https://localhost:8080/"
        },
        "outputId": "ffdc6224-dc6d-478e-e412-5f808a18c508"
      },
      "source": [
        "# Obtener el elemento de la posicion 3\n",
        "print(lista[3])"
      ],
      "execution_count": null,
      "outputs": [
        {
          "output_type": "stream",
          "text": [
            "[1, 2]\n"
          ],
          "name": "stdout"
        }
      ]
    },
    {
      "cell_type": "markdown",
      "metadata": {
        "id": "2K5o5O7aiOXq"
      },
      "source": [
        "Si la posición 3 es una lista, para acceder a los elementos de esta lista se realiza de la siguiente manera."
      ]
    },
    {
      "cell_type": "code",
      "metadata": {
        "id": "vZZHIxiCiKF-",
        "colab": {
          "base_uri": "https://localhost:8080/"
        },
        "outputId": "e435a644-c4b8-4d69-b640-32ae8e8445a2"
      },
      "source": [
        "# Obtener el elemento de la posicion 3, obtener el elemento 1 de esta lista\n",
        "print(lista[3][1])"
      ],
      "execution_count": null,
      "outputs": [
        {
          "output_type": "stream",
          "text": [
            "2\n"
          ],
          "name": "stdout"
        }
      ]
    },
    {
      "cell_type": "code",
      "metadata": {
        "id": "UUduKW-ZiNa0",
        "colab": {
          "base_uri": "https://localhost:8080/"
        },
        "outputId": "29d48f44-3095-4da8-a945-97743440021d"
      },
      "source": [
        "# Obtener los elementos de la posicion 1 hasta la 3\n",
        "print(lista[1:3])"
      ],
      "execution_count": null,
      "outputs": [
        {
          "output_type": "stream",
          "text": [
            "[2.5, 'Grupo']\n"
          ],
          "name": "stdout"
        }
      ]
    },
    {
      "cell_type": "code",
      "metadata": {
        "id": "K56Tf3SDiv9D",
        "colab": {
          "base_uri": "https://localhost:8080/"
        },
        "outputId": "19a3e8e8-b88d-444b-a980-aa41d104dd4d"
      },
      "source": [
        "# Adicionar un elemento a la lista\n",
        "lista.append('Nuevo')\n",
        "print(lista)"
      ],
      "execution_count": null,
      "outputs": [
        {
          "output_type": "stream",
          "text": [
            "[1, 2.5, 'Grupo', [1, 2], 10, 'Grupo', 'Nuevo']\n"
          ],
          "name": "stdout"
        }
      ]
    },
    {
      "cell_type": "code",
      "metadata": {
        "id": "jL7rmUmEjQf3",
        "colab": {
          "base_uri": "https://localhost:8080/"
        },
        "outputId": "d794a3a1-4348-425e-aefc-9e7dd14671b1"
      },
      "source": [
        "# Extend permite agregar elementos pero al agregar una lista cada elemento de esta se agrega como un elemento mas dentro de la otra lista\n",
        "lista.extend(['Elemento',45])\n",
        "print(lista)"
      ],
      "execution_count": null,
      "outputs": [
        {
          "output_type": "stream",
          "text": [
            "[1, 2.5, 'Grupo', [1, 2], 10, 'Grupo', 'Nuevo', 'Elemento', 45]\n"
          ],
          "name": "stdout"
        }
      ]
    },
    {
      "cell_type": "code",
      "metadata": {
        "id": "l9PyPRKsAJOZ",
        "colab": {
          "base_uri": "https://localhost:8080/"
        },
        "outputId": "78e5169d-72bf-45c2-9e97-77a630c8ac85"
      },
      "source": [
        "# Inserta un elemento en la posicion dada\n",
        "lista.insert(3,1)\n",
        "print(lista)"
      ],
      "execution_count": null,
      "outputs": [
        {
          "output_type": "stream",
          "text": [
            "[1, 2.5, 'Grupo', 1, [1, 2], 10, 'Grupo', 'Nuevo', 'Elemento', 45]\n"
          ],
          "name": "stdout"
        }
      ]
    },
    {
      "cell_type": "code",
      "metadata": {
        "id": "oBzaPwCSjh9X",
        "colab": {
          "base_uri": "https://localhost:8080/"
        },
        "outputId": "d5a7c211-2a35-4537-96d3-6cb6423a7426"
      },
      "source": [
        "# Eliminar un elemento de la lista\n",
        "lista.remove(10)\n",
        "print(lista)"
      ],
      "execution_count": null,
      "outputs": [
        {
          "output_type": "stream",
          "text": [
            "[1, 2.5, 'Grupo', 1, [1, 2], 'Grupo', 'Nuevo', 'Elemento', 45]\n"
          ],
          "name": "stdout"
        }
      ]
    },
    {
      "cell_type": "code",
      "metadata": {
        "id": "PYAuUj1Ajrct",
        "colab": {
          "base_uri": "https://localhost:8080/"
        },
        "outputId": "a2fd7a48-d56d-4829-e2c9-f4d6a9f2a226"
      },
      "source": [
        "# Devuelve el número de indice del elemento que le pasamor por parámetro\n",
        "print(lista.index('Grupo'))"
      ],
      "execution_count": null,
      "outputs": [
        {
          "output_type": "stream",
          "text": [
            "2\n"
          ],
          "name": "stdout"
        }
      ]
    },
    {
      "cell_type": "code",
      "metadata": {
        "id": "1aH6nX11AiWG",
        "colab": {
          "base_uri": "https://localhost:8080/"
        },
        "outputId": "d4bdaf26-e5b4-4215-b678-b6377670005d"
      },
      "source": [
        "# Devuelve el elemento en la posicion dada de la lista y lo elimina\n",
        "print(lista.pop(2))\n",
        "print(lista)"
      ],
      "execution_count": null,
      "outputs": [
        {
          "output_type": "stream",
          "text": [
            "Grupo\n",
            "[1, 2.5, 1, [1, 2], 'Grupo', 'Nuevo', 'Elemento', 45]\n"
          ],
          "name": "stdout"
        }
      ]
    },
    {
      "cell_type": "code",
      "metadata": {
        "id": "9R6HePjPkA-Q",
        "colab": {
          "base_uri": "https://localhost:8080/"
        },
        "outputId": "f019722e-fb85-4749-ac2a-a429bb0ae006"
      },
      "source": [
        "# Devuelve cuantas veces un elemento de una lista se repite\n",
        "print(lista.count(1))"
      ],
      "execution_count": null,
      "outputs": [
        {
          "output_type": "stream",
          "text": [
            "2\n"
          ],
          "name": "stdout"
        }
      ]
    },
    {
      "cell_type": "code",
      "metadata": {
        "id": "i3OWc52-kMZH",
        "colab": {
          "base_uri": "https://localhost:8080/"
        },
        "outputId": "72f4b89a-2b93-4c75-caba-c780be47d5e9"
      },
      "source": [
        "# Invertir los elementos de una lista\n",
        "lista.reverse()\n",
        "print(lista)"
      ],
      "execution_count": null,
      "outputs": [
        {
          "output_type": "stream",
          "text": [
            "[45, 'Elemento', 'Nuevo', 'Grupo', [1, 2], 1, 2.5, 1]\n"
          ],
          "name": "stdout"
        }
      ]
    },
    {
      "cell_type": "code",
      "metadata": {
        "id": "djMAaRAay0cc",
        "colab": {
          "base_uri": "https://localhost:8080/"
        },
        "outputId": "f1dafdc1-9c93-4768-db9b-1e776b970554"
      },
      "source": [
        "help(lista.reverse())"
      ],
      "execution_count": null,
      "outputs": [
        {
          "output_type": "stream",
          "text": [
            "Help on NoneType object:\n",
            "\n",
            "class NoneType(object)\n",
            " |  Methods defined here:\n",
            " |  \n",
            " |  __bool__(self, /)\n",
            " |      self != 0\n",
            " |  \n",
            " |  __repr__(self, /)\n",
            " |      Return repr(self).\n",
            " |  \n",
            " |  ----------------------------------------------------------------------\n",
            " |  Static methods defined here:\n",
            " |  \n",
            " |  __new__(*args, **kwargs) from builtins.type\n",
            " |      Create and return a new object.  See help(type) for accurate signature.\n",
            "\n"
          ],
          "name": "stdout"
        }
      ]
    },
    {
      "cell_type": "code",
      "metadata": {
        "id": "svNMggBgCq6_",
        "colab": {
          "base_uri": "https://localhost:8080/"
        },
        "outputId": "269eb802-92cf-4aba-9aec-36df614b30b2"
      },
      "source": [
        "# Las listas son mutables\n",
        "lista[0] = 3\n",
        "print(lista)"
      ],
      "execution_count": null,
      "outputs": [
        {
          "output_type": "stream",
          "text": [
            "[3, 2.5, 1, [1, 2], 'Grupo', 'Nuevo', 'Elemento', 45]\n"
          ],
          "name": "stdout"
        }
      ]
    },
    {
      "cell_type": "code",
      "metadata": {
        "id": "1s6yNFss1HLM",
        "colab": {
          "base_uri": "https://localhost:8080/"
        },
        "outputId": "aed88e65-899e-409e-f933-8fea31921d20"
      },
      "source": [
        "3 in lista"
      ],
      "execution_count": null,
      "outputs": [
        {
          "output_type": "execute_result",
          "data": {
            "text/plain": [
              "True"
            ]
          },
          "metadata": {
            "tags": []
          },
          "execution_count": 141
        }
      ]
    },
    {
      "cell_type": "markdown",
      "metadata": {
        "id": "cww9WuV7Atw5"
      },
      "source": [
        "## Manejo de Diccionarios\n",
        "\n",
        "Al contrario de las listas los diccionarios no tienen orden, un diccionario es una palabra que tiene asociado algo.\n",
        "\n",
        "Se crean poniendo sus elementos entre llaves (`{\"a\":\"Alicante\",\"b\":\"Barcelona\"}`). Se denominan keys a las **palabras** y values a las **definiciones**. Lógicamente no puede haber dos keys iguales, pero si dos values iguales.\n"
      ]
    },
    {
      "cell_type": "code",
      "metadata": {
        "id": "_fJ3dy5fAsw-",
        "colab": {
          "base_uri": "https://localhost:8080/"
        },
        "outputId": "a20f5b47-3ccc-4fc8-f577-313a222a3539"
      },
      "source": [
        "diccionario = {'Piloto 1':'Fernando Alonso', 'Piloto 2':'Kimi Raikkonen', 'Piloto 3':'Felipe Massa'}\n",
        "print(diccionario)"
      ],
      "execution_count": null,
      "outputs": [
        {
          "output_type": "stream",
          "text": [
            "{'Piloto 1': 'Fernando Alonso', 'Piloto 2': 'Kimi Raikkonen', 'Piloto 3': 'Felipe Massa'}\n"
          ],
          "name": "stdout"
        }
      ]
    },
    {
      "cell_type": "code",
      "metadata": {
        "id": "nKRs88CoCL8y",
        "colab": {
          "base_uri": "https://localhost:8080/"
        },
        "outputId": "cbffe103-bf57-4f18-9cda-50b1abe7f1b2"
      },
      "source": [
        "# Devuelve el valor que corresponde con la key introducida.\n",
        "print(diccionario.get('Piloto 1'))\n",
        "print(diccionario['Piloto 1'])"
      ],
      "execution_count": null,
      "outputs": [
        {
          "output_type": "stream",
          "text": [
            "Fernando Alonso\n",
            "Fernando Alonso\n"
          ],
          "name": "stdout"
        }
      ]
    },
    {
      "cell_type": "code",
      "metadata": {
        "id": "7rore5CBCYmu",
        "colab": {
          "base_uri": "https://localhost:8080/"
        },
        "outputId": "88f24096-54f3-42e4-82b6-3c6e204fb278"
      },
      "source": [
        "# Devuelve el valor que corresponde con la key introducida, y luego borra la key y el valor.\n",
        "print(diccionario.pop('Piloto 1'))\n",
        "print(diccionario)"
      ],
      "execution_count": null,
      "outputs": [
        {
          "output_type": "stream",
          "text": [
            "Fernando Alonso\n",
            "{'Piloto 2': 'Kimi Raikkonen', 'Piloto 3': 'Felipe Massa'}\n"
          ],
          "name": "stdout"
        }
      ]
    },
    {
      "cell_type": "code",
      "metadata": {
        "id": "S6sRHQy-CmkT",
        "colab": {
          "base_uri": "https://localhost:8080/"
        },
        "outputId": "5d9ca8cf-32d5-46ee-f2a8-58716e5d10dc"
      },
      "source": [
        "# Actualiza el valor de una determinada key o lo crea si no existe.\n",
        "diccionario.update({'Piloto 4':'Lewis Hamilton'})\n",
        "diccionario.update({'Piloto 2':'Sebastian Vettel'})\n",
        "print(diccionario)"
      ],
      "execution_count": null,
      "outputs": [
        {
          "output_type": "stream",
          "text": [
            "{'Piloto 2': 'Sebastian Vettel', 'Piloto 3': 'Felipe Massa', 'Piloto 4': 'Lewis Hamilton'}\n"
          ],
          "name": "stdout"
        }
      ]
    },
    {
      "cell_type": "code",
      "metadata": {
        "id": "0DONnb6b0V8G",
        "colab": {
          "base_uri": "https://localhost:8080/"
        },
        "outputId": "fd4f0587-614d-4695-97d0-ca1863132d77"
      },
      "source": [
        "diccionario['Piloto 5'] = 'Juan Perez'\n",
        "print(diccionario)"
      ],
      "execution_count": null,
      "outputs": [
        {
          "output_type": "stream",
          "text": [
            "{'Piloto 2': 'Sebastian Vettel', 'Piloto 3': 'Felipe Massa', 'Piloto 4': 'Lewis Hamilton', 'Piloto 5': 'Juan Perez'}\n"
          ],
          "name": "stdout"
        }
      ]
    },
    {
      "cell_type": "code",
      "metadata": {
        "id": "RpqEwTofC-hX",
        "colab": {
          "base_uri": "https://localhost:8080/"
        },
        "outputId": "41a58a18-6002-40cf-905e-5874d51c3134"
      },
      "source": [
        "# \"key\" in diccionario: devuelve verdadero (True) o falso (False) si la key existe en el diccionario.\n",
        "print (\"Piloto 2\" in diccionario)\n",
        "print (\"piloto 1\" in diccionario)\n",
        "print (\"Sebastian Vettel\" in diccionario)"
      ],
      "execution_count": null,
      "outputs": [
        {
          "output_type": "stream",
          "text": [
            "True\n",
            "False\n",
            "False\n"
          ],
          "name": "stdout"
        }
      ]
    },
    {
      "cell_type": "code",
      "metadata": {
        "id": "ZMddoLF0DOXe",
        "colab": {
          "base_uri": "https://localhost:8080/"
        },
        "outputId": "9678d015-9d61-44a7-9a6d-18dde65c1532"
      },
      "source": [
        "# \"definición\" in diccionario.values(): devuelve verdadero (True) o falso (False) si la definición existe en el diccionario.\n",
        "print (\"Sebastian Vettel\" in diccionario.values())"
      ],
      "execution_count": null,
      "outputs": [
        {
          "output_type": "stream",
          "text": [
            "True\n"
          ],
          "name": "stdout"
        }
      ]
    },
    {
      "cell_type": "code",
      "metadata": {
        "id": "yQFfmXyCDTAb",
        "colab": {
          "base_uri": "https://localhost:8080/"
        },
        "outputId": "8f69c6dd-9612-4948-afe7-f8772ebe18d3"
      },
      "source": [
        "# del diccionario['key']: Elimina el valor (y el key) asociado a la key indicada.\n",
        "del diccionario['Piloto 2']\n",
        "print(diccionario)"
      ],
      "execution_count": null,
      "outputs": [
        {
          "output_type": "stream",
          "text": [
            "{'Piloto 3': 'Felipe Massa', 'Piloto 4': 'Lewis Hamilton', 'Piloto 5': 'Juan Perez'}\n"
          ],
          "name": "stdout"
        }
      ]
    },
    {
      "cell_type": "markdown",
      "metadata": {
        "id": "SGhcO1nd_7qa"
      },
      "source": [
        "## Manejo de Tuplas\n",
        "\n",
        "Las tuplas son inmutables, una vez creada, no se puede cambiar ni su contenido ni su tamaño."
      ]
    },
    {
      "cell_type": "code",
      "metadata": {
        "id": "0iID8f9fFr6r"
      },
      "source": [
        "tuple1 = (1,2,3,4,5)\n",
        "tuple2 = (6,7,8,9,10)"
      ],
      "execution_count": null,
      "outputs": []
    },
    {
      "cell_type": "code",
      "metadata": {
        "id": "2YqtrLDNFxW4"
      },
      "source": [
        "# Concatenar tuplas\n",
        "tuple3 = tuple1 + tuple2\n",
        "print(tuple3)"
      ],
      "execution_count": null,
      "outputs": []
    },
    {
      "cell_type": "code",
      "metadata": {
        "id": "zBobFz2QF_LE"
      },
      "source": [
        "# Repetir tuplas\n",
        "print(tuple1 * 3)"
      ],
      "execution_count": null,
      "outputs": []
    },
    {
      "cell_type": "code",
      "metadata": {
        "id": "sgAWbjg6GEbd"
      },
      "source": [
        "# Validar si un elemento esta en la tupla\n",
        "print(7 in tuple1)\n",
        "print(7 in tuple2)"
      ],
      "execution_count": null,
      "outputs": []
    },
    {
      "cell_type": "code",
      "metadata": {
        "id": "cqgdN7jpGOEM"
      },
      "source": [
        "# Devuelve el indice del elemento\n",
        "print(tuple1.index(5))"
      ],
      "execution_count": null,
      "outputs": []
    },
    {
      "cell_type": "code",
      "metadata": {
        "id": "drA9XgaDGZHt"
      },
      "source": [
        "# Devuelve cuantas veces esta un elemento repetido\n",
        "tuple4 = (65,67,5,67,34,76,67,231,98,67)\n",
        "print(tuple4.count(67))"
      ],
      "execution_count": null,
      "outputs": []
    },
    {
      "cell_type": "code",
      "metadata": {
        "id": "bI1ej2m4GqMW"
      },
      "source": [
        "# Indexación\n",
        "print(tuple4[4])\n",
        "print(tuple4[-4])\n",
        "print(tuple4[:4])\n",
        "print(tuple4[5:])\n",
        "print(tuple4[-6:-2])\n",
        "print(tuple4[3:6])"
      ],
      "execution_count": null,
      "outputs": []
    },
    {
      "cell_type": "markdown",
      "metadata": {
        "id": "e091jzoIgnHz"
      },
      "source": [
        "## Funciones de Usuario\n",
        "\n",
        "En Python, la definición de funciones se realiza mediante la instruccion `def`.  La definición de la función finaliza con dos puntos (`:`) y el algoritmo que la compone, irá con tabulación.\n",
        "\n"
      ]
    },
    {
      "cell_type": "code",
      "metadata": {
        "id": "B-oMd4YVgh-3"
      },
      "source": [
        "def miFuncion():\n",
        "  print(\"Hola Mundo\")"
      ],
      "execution_count": null,
      "outputs": []
    },
    {
      "cell_type": "code",
      "metadata": {
        "id": "EX3W5HRJgCGY"
      },
      "source": [
        "miFuncion()"
      ],
      "execution_count": null,
      "outputs": []
    },
    {
      "cell_type": "code",
      "metadata": {
        "id": "nWFS9JEv2_88"
      },
      "source": [
        "valor = miFuncion()\n",
        "print(valor)"
      ],
      "execution_count": null,
      "outputs": []
    },
    {
      "cell_type": "markdown",
      "metadata": {
        "id": "nt47tYe6lXk4"
      },
      "source": [
        "Las funciones tambien pueden retornar un valor, este puede ser asignado a una variable.\n",
        "\n",
        "```Python\n",
        "def miFuncion():\n",
        "  return \"Hola Mundo\"\n",
        "````"
      ]
    },
    {
      "cell_type": "code",
      "metadata": {
        "id": "aBZ2fGXslUKW"
      },
      "source": [
        "def miFuncion():\n",
        "  return \"Hola Mundo\""
      ],
      "execution_count": null,
      "outputs": []
    },
    {
      "cell_type": "code",
      "metadata": {
        "id": "iwUwBPdmln5G"
      },
      "source": [
        "mensaje = miFuncion()\n",
        "print(mensaje)\n",
        "print(miFuncion())"
      ],
      "execution_count": null,
      "outputs": []
    },
    {
      "cell_type": "markdown",
      "metadata": {
        "id": "UnADeiPAlvbJ"
      },
      "source": [
        "Las funciones tambien pueden recibir parametros de entrada.\n",
        "\n",
        "```Python\n",
        "def miFuncion(nombre, apellido):\n",
        "  return nombre + ' ' + apellido\n",
        "````"
      ]
    },
    {
      "cell_type": "code",
      "metadata": {
        "id": "Jkk_pRIGlr5R"
      },
      "source": [
        "def miFuncion(nombre, apellido):\n",
        "  return nombre + ' ' + apellido"
      ],
      "execution_count": null,
      "outputs": []
    },
    {
      "cell_type": "code",
      "metadata": {
        "id": "RHNUpJVPl-Ab"
      },
      "source": [
        "mensaje = miFuncion(\"Juan\",\"Perez\")\n",
        "print(mensaje)"
      ],
      "execution_count": null,
      "outputs": []
    },
    {
      "cell_type": "markdown",
      "metadata": {
        "id": "som2cF3NoNNi"
      },
      "source": [
        "Las funciones pueden tener parametros de entrada con valores por defecto.\n",
        "\n",
        "```Python\n",
        "def miFuncion(nombre, apellido, mensaje = 'Hola'):\n",
        "  return mensaje + ' ' + nombre + ' ' + apellido\n",
        "````"
      ]
    },
    {
      "cell_type": "code",
      "metadata": {
        "id": "ORPtW5HcoerO"
      },
      "source": [
        "def miFuncion(nombre, apellido, mensaje = 'Hola'):\n",
        "  return mensaje + ' ' + nombre + ' ' + apellido"
      ],
      "execution_count": null,
      "outputs": []
    },
    {
      "cell_type": "code",
      "metadata": {
        "id": "zDWgEwOOoh7_"
      },
      "source": [
        "mensaje = miFuncion(\"Juan\",\"Perez\")\n",
        "print(mensaje)"
      ],
      "execution_count": null,
      "outputs": []
    },
    {
      "cell_type": "code",
      "metadata": {
        "id": "fSS2k2ZQojfM"
      },
      "source": [
        "mensaje = miFuncion(\"Juan\",\"Perez\",\"Chao\")\n",
        "print(mensaje)"
      ],
      "execution_count": null,
      "outputs": []
    },
    {
      "cell_type": "markdown",
      "metadata": {
        "id": "hFTNODUAmD-v"
      },
      "source": [
        "### Ejercicio 4\n",
        "\n",
        "Escriba una función que calcule un valor según una formula dada:\n",
        "\n",
        "$Q = sqrt( (2 * C)/H )$\n",
        "\n",
        "$C$ Es un numero entero\n",
        "\n",
        "$H$ Es un numero entero\n",
        "\n",
        "La función debe de retornar el valor de $Q$.\n",
        "\n",
        "**Tip:** En Python se pueden importar librerias o paquetes usando `import`, para este ejercicio se importarña la libreria de matematicas `math`. Para usar el metodo `sqrt` se realiza el llamado de la siguiente manera `math.sqrt(numero)`"
      ]
    },
    {
      "cell_type": "code",
      "metadata": {
        "id": "IPmk2xcim1s2"
      },
      "source": [
        "# Su Codigo"
      ],
      "execution_count": null,
      "outputs": []
    },
    {
      "cell_type": "markdown",
      "metadata": {
        "id": "MEZrtKFBo9D3"
      },
      "source": [
        "### Ejercicio 5\n",
        "\n",
        "Escriba una función que calcule el area de un triangulo:\n",
        "\n",
        "$Area = (Base*Altura)/2 $\n",
        "\n",
        "$Base$ Es un numero entero o real.\n",
        "$Altura$ Es un numero entero o real.\n",
        "\n",
        "La función debe de retornar el valor del $Area$."
      ]
    },
    {
      "cell_type": "code",
      "metadata": {
        "id": "zYVK465Oo8R2"
      },
      "source": [
        "# Su Codigo"
      ],
      "execution_count": null,
      "outputs": []
    },
    {
      "cell_type": "markdown",
      "metadata": {
        "id": "6d7bbtJhp4KL"
      },
      "source": [
        "### Ejercicio 6\n",
        "\n",
        "Escriba una función que reciba como parametro un número entero y una lista, debe de adicionar a la lista el numero elevado al cubo y devolver la lista con el nuevo elemento."
      ]
    },
    {
      "cell_type": "code",
      "metadata": {
        "id": "hal1dT42p1tC"
      },
      "source": [
        "# Su Codigo"
      ],
      "execution_count": null,
      "outputs": []
    },
    {
      "cell_type": "markdown",
      "metadata": {
        "id": "_BJi1dmXHe9e"
      },
      "source": [
        "## Conjuntos en Python\n",
        "\n",
        "Python tiene un tipo de dato `set` el cual nos permite trabajar con conjuntos y realizar operaciones de conjuntos con estas variables.  Se define entre llaves (`{}`) y se separan los elementos con comas. \n",
        "\n",
        "```python\n",
        "conjunto = {1,2,3}\n",
        "````"
      ]
    },
    {
      "cell_type": "code",
      "metadata": {
        "id": "vH2b2v91HeGu"
      },
      "source": [
        "# Definiendo conjuntos\n",
        "c1 = {1, 2, 3, 4, 5, 6}\n",
        "c2 = {2, 4, 6, 8, 10}\n",
        "c3 = {1, 2, 3}\n",
        "c4 = {4, 5, 6}"
      ],
      "execution_count": null,
      "outputs": []
    },
    {
      "cell_type": "code",
      "metadata": {
        "id": "1ZN6ZH3zIGFu"
      },
      "source": [
        "# Union de conjuntos\n",
        "print(c1|c2)\n",
        "print(c1|c2|c3)"
      ],
      "execution_count": null,
      "outputs": []
    },
    {
      "cell_type": "code",
      "metadata": {
        "id": "06giFyw4IhSG"
      },
      "source": [
        "# Tambien puede hacerse la union con el metodo\n",
        "print(c1.union(c2))"
      ],
      "execution_count": null,
      "outputs": []
    },
    {
      "cell_type": "code",
      "metadata": {
        "id": "PU7yfesqIKnD"
      },
      "source": [
        "# Intersección de conjuntos\n",
        "print(c1&c2)\n",
        "print(c1 & c2 & c3 & c4)"
      ],
      "execution_count": null,
      "outputs": []
    },
    {
      "cell_type": "code",
      "metadata": {
        "id": "lBva9uaFIm7z"
      },
      "source": [
        "# Tambien puede hacerse la intersección con el metodo\n",
        "print(c1.intersection(c2,c3))"
      ],
      "execution_count": null,
      "outputs": []
    },
    {
      "cell_type": "code",
      "metadata": {
        "id": "yflsGQ9hIW9t"
      },
      "source": [
        "# Diferencia de conjuntos\n",
        "print(c1-c2)"
      ],
      "execution_count": null,
      "outputs": []
    },
    {
      "cell_type": "code",
      "metadata": {
        "id": "aEMq5n2MJAns"
      },
      "source": [
        "# Diferencia de conjuntos con el metodo\n",
        "print(c1.difference(c2))"
      ],
      "execution_count": null,
      "outputs": []
    },
    {
      "cell_type": "code",
      "metadata": {
        "id": "CF1rCOAXIbpC"
      },
      "source": [
        "# Union exclusiva\n",
        "print(c1^c2)"
      ],
      "execution_count": null,
      "outputs": []
    },
    {
      "cell_type": "code",
      "metadata": {
        "id": "Z82kOAwuJHrr"
      },
      "source": [
        "# Union exclusiva con el metodo\n",
        "print(c1.symmetric_difference(c2))"
      ],
      "execution_count": null,
      "outputs": []
    },
    {
      "cell_type": "markdown",
      "metadata": {
        "id": "pqHkQ1qn7Dwk"
      },
      "source": [
        "## Estructuras de control\n",
        "\n",
        "### Ciclos FOR\n",
        "\n",
        "Los ciclos For en Python son simples. La estructura basica esta dada por **`for <var-name> in <iterable> :`**\n",
        "**Importante** finalizando el for siempre debe de ir **:**, es obligatorio y para los constructores del flujo de control son obligación. \n",
        "\n",
        "El bloque que sera iterado esta determinado por la tabulación de las lineas siguientes del for.   \n",
        "   \n",
        "La linea en blanco despues de las dos sentencias no es obligatoria, pero es considerada buena practica. Las lineas luego del ciclo for no llevan tabulación, por lo tanto ya estan fuera del ciclo."
      ]
    },
    {
      "cell_type": "code",
      "metadata": {
        "id": "lSixF4Ga7C3R"
      },
      "source": [
        "string_list = [ \"Juan\", \"is\", \"1.70\", \"metres\", \"high\"]"
      ],
      "execution_count": null,
      "outputs": []
    },
    {
      "cell_type": "code",
      "metadata": {
        "id": "A28Sqg6Y7Joj",
        "colab": {
          "base_uri": "https://localhost:8080/"
        },
        "outputId": "d0a35635-9b35-49e3-da82-a5ca35503c91"
      },
      "source": [
        "for elem in string_list : \n",
        "    print( elem )\n",
        "    print( len(elem), 'characters\\n' )\n",
        "    \n",
        "print( \"The loop is done\")"
      ],
      "execution_count": null,
      "outputs": [
        {
          "output_type": "stream",
          "text": [
            "Juan\n",
            "4 characters\n",
            "\n",
            "is\n",
            "2 characters\n",
            "\n",
            "1.70\n",
            "4 characters\n",
            "\n",
            "metres\n",
            "6 characters\n",
            "\n",
            "high\n",
            "4 characters\n",
            "\n",
            "The loop is done\n"
          ],
          "name": "stdout"
        }
      ]
    },
    {
      "cell_type": "code",
      "metadata": {
        "id": "cmT-cI_yBqWG",
        "colab": {
          "base_uri": "https://localhost:8080/"
        },
        "outputId": "ac93b6ad-6aa2-457b-ccfb-745a25bfa2cf"
      },
      "source": [
        "for idx in range(len(string_list)):\n",
        "  print(idx)\n",
        "  print(string_list[idx])\n",
        "  print(len(string_list[idx]))"
      ],
      "execution_count": null,
      "outputs": [
        {
          "output_type": "stream",
          "text": [
            "0\n",
            "Juan\n",
            "4\n",
            "1\n",
            "is\n",
            "2\n",
            "2\n",
            "1.70\n",
            "4\n",
            "3\n",
            "metres\n",
            "6\n",
            "4\n",
            "high\n",
            "4\n"
          ],
          "name": "stdout"
        }
      ]
    },
    {
      "cell_type": "markdown",
      "metadata": {
        "id": "GsZQs3v57OAR"
      },
      "source": [
        "#### Otra forma de iterar un ciclo for : range ( a, b, s )\n",
        "\n",
        "Una forma común de iterar un ciclo for es desde 0 hasta n-1.  Esto se puede implementar con una funcion range."
      ]
    },
    {
      "cell_type": "code",
      "metadata": {
        "id": "36Le1FsL7Qfk"
      },
      "source": [
        "n = 10 \n",
        "\n",
        "for  i in range(0,10) : \n",
        "    print( f\"i = {i}\")"
      ],
      "execution_count": null,
      "outputs": []
    },
    {
      "cell_type": "code",
      "metadata": {
        "id": "HW1jcO9a7SFM"
      },
      "source": [
        "for  i in range(3,10) : \n",
        "    print( f\"i = {i}\")"
      ],
      "execution_count": null,
      "outputs": []
    },
    {
      "cell_type": "code",
      "metadata": {
        "id": "MDOf7ZMA7VvR"
      },
      "source": [
        "for  i in range(20, 3, -5) : \n",
        "    print( f\"i = {i}\")"
      ],
      "execution_count": null,
      "outputs": []
    },
    {
      "cell_type": "markdown",
      "metadata": {
        "id": "TVYDGddg7XHh"
      },
      "source": [
        "### Condicional IF - ELIF - ELSE\n",
        "\n",
        "**Nota:**\n",
        "\n",
        "* No hay paréntesis alrededor de las condiciones booleanas. \n",
        "* Puede haber tantas ramas elif como desee cada una con una condición explícita.\n",
        "* ¡Sólo puede haber una más al final, sin condición, por supuesto!"
      ]
    },
    {
      "cell_type": "code",
      "metadata": {
        "id": "e5IINCKi7bq0",
        "colab": {
          "base_uri": "https://localhost:8080/"
        },
        "outputId": "8e5b1414-4953-462f-949c-71c5046723af"
      },
      "source": [
        "z = 15\n",
        "if  z > 10 :   \n",
        "    print( \"A: Esto es grande!!!\")\n",
        "    print( \"B: ¡Eso es lo que ha dicho!\")\n",
        "elif z == 0 : \n",
        "    print( \"z es cero!!!\")\n",
        "elif z > -10 : \n",
        "    print( \"z esta entre -10 y 10 pero no es ero\")\n",
        "else : \n",
        "    print( \"z es probablemente negativo. Quién sabe... los ordenadores son raros...\")"
      ],
      "execution_count": null,
      "outputs": [
        {
          "output_type": "stream",
          "text": [
            "A: Esto es grande!!!\n",
            "B: ¡Eso es lo que ha dicho!\n"
          ],
          "name": "stdout"
        }
      ]
    },
    {
      "cell_type": "code",
      "metadata": {
        "id": "jgiwzvtaAoNg",
        "colab": {
          "base_uri": "https://localhost:8080/"
        },
        "outputId": "18e68266-6c66-4595-de4a-f77dd8e4c78e"
      },
      "source": [
        "z = 11\n",
        "if  z > 10 and z == 0 :\n",
        "  print(\"ok\")\n",
        "else:\n",
        "  print(\"no\")   "
      ],
      "execution_count": null,
      "outputs": [
        {
          "output_type": "stream",
          "text": [
            "no\n"
          ],
          "name": "stdout"
        }
      ]
    }
  ]
}