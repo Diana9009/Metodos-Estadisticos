{
  "cells": [
    {
      "cell_type": "markdown",
      "metadata": {
        "id": "MCtjZ9SoLXnd"
      },
      "source": [
        "# **Imbalanced data**\n",
        "\n",
        "En los problemas de clasificación en donde tenemos que etiquetar por ejemplo entre “spam” o “not spam” ó entre múltiples categorías (coche, barco, avión) solemos encontrar que en nuestro conjunto de datos de entrenamiento contamos con que alguna de las clases de muestra es una clase “minoritaria” es decir, de la cual tenemos muy poquitas muestras. Esto provoca un desbalanceo en los datos que utilizaremos para el entrenamiento de nuestra máquina.\n",
        "\n",
        "- En el área de Salud se encuentran conjuntos de datos con miles de registros con pacientes “negativos” y unos pocos casos positivos es decir, que padecen la enfermedad que queremos clasificar.\n",
        "\n",
        "- Detección de fraude donde tenemos muchas muestras de clientes “honestos” y pocos casos etiquetados como fraudulentos. \n",
        "\n",
        "\n",
        "¿Cómo las afectan los datos desbalanceados?\n",
        "\n",
        "\n",
        "Por lo general afecta a los algoritmos en su proceso de generalización de la información y perjudicando a las clases minoritarias. \n",
        "\n",
        "\n"
      ]
    },
    {
      "cell_type": "markdown",
      "metadata": {
        "id": "w7PzgSvkLqzu"
      },
      "source": [
        "Métricas y Confusion Matrix\n",
        "Como decía, si medimos la efectividad de nuestro modelo por la cantidad de aciertos que tuvo, sólo teniendo en cuenta a la clase mayoritaria podemos estar teniendo una falsa sensación de que el modelo funciona bien.\n",
        "\n",
        "Para poder entender esto un poco mejor, utilizaremos la llamada “Confusión matrix” que nos ayudará a comprender las salidas de nuestra máquina:\n",
        "\n",
        "<img src=\"https://www.aprendemachinelearning.com/wp-content/uploads/2019/05/confusion_matix_example.png\">"
      ]
    },
    {
      "cell_type": "markdown",
      "metadata": {
        "id": "rceRpfmhL5hj"
      },
      "source": [
        "<img src=\"https://www.aprendemachinelearning.com/wp-content/uploads/2019/05/confusion_matix_example.png\">\n"
      ]
    },
    {
      "cell_type": "markdown",
      "metadata": {
        "id": "XAzHoNW3MNJd"
      },
      "source": [
        "<img src=\"https://www.aprendemachinelearning.com/wp-content/uploads/2019/05/confusion_matix_example-2.png\">"
      ]
    },
    {
      "cell_type": "markdown",
      "metadata": {
        "id": "bo5omqN3MU95"
      },
      "source": [
        "- **Accuracy** del modelo es básicamente el numero total de predicciones correctas dividido por el número total de predicciones. En este caso da 99% cuando no hemos logrado identificar ningún perro.\n",
        "\n",
        "- **La Precisión** de una clase define cuan confiable es un modelo en responder si un punto pertenece a esa clase. Para la clase gato será del 99% sin embargo para la de perro será 0%.\n",
        "\n",
        "- **El Recall** de una clase expresa cuan bien puede el modelo detectar a esa clase. Para gatos será de 1 y para perros 0.\n",
        "\n",
        "- El **F1 Score** de una clase es dada por la media harmonía de precisión y recall (2 x precision x recall / (precision+recall)) digamos que combina precisión y recall en una sola métrica. En nuestro caso daría cero para perros!.\n",
        "\n",
        "---\n",
        "#### Cuatro casos posibles para cada clase:\n",
        "\n",
        "- Alta precision y alto recall: el modelo maneja perfectamente esa clase\n",
        "- Alta precision y bajo recall: el modelo no detecta la clase muy bien, pero cuando lo hace es altamente confiable.\n",
        "- Baja precisión y alto recall: La clase detecta bien la clase pero también incluye muestras de otras clases.\n",
        "- Baja precisión y bajo recall: El modelo no logra clasificar la clase correctamente.\n",
        "Cuando tenemos un dataset con desequilibrio, suele ocurrir que obtenemos un alto valor de precisión en la clase Mayoritaria y un bajo recall en la clase Minoritaria\n",
        "---"
      ]
    },
    {
      "cell_type": "code",
      "execution_count": 2,
      "metadata": {
        "colab": {
          "base_uri": "https://localhost:8080/"
        },
        "id": "mTOY-pmadrmv",
        "outputId": "82e206b2-bf51-4422-bcd6-a34c84a109ec"
      },
      "outputs": [
        {
          "name": "stdout",
          "output_type": "stream",
          "text": [
            "Collecting imbalanced-learn\n",
            "  Downloading imbalanced_learn-0.12.2-py3-none-any.whl.metadata (8.2 kB)\n",
            "Requirement already satisfied: numpy>=1.17.3 in c:\\users\\wsand\\appdata\\local\\programs\\python\\python312\\lib\\site-packages (from imbalanced-learn) (1.26.4)\n",
            "Requirement already satisfied: scipy>=1.5.0 in c:\\users\\wsand\\appdata\\local\\programs\\python\\python312\\lib\\site-packages (from imbalanced-learn) (1.11.4)\n",
            "Requirement already satisfied: scikit-learn>=1.0.2 in c:\\users\\wsand\\appdata\\local\\programs\\python\\python312\\lib\\site-packages (from imbalanced-learn) (1.4.2)\n",
            "Requirement already satisfied: joblib>=1.1.1 in c:\\users\\wsand\\appdata\\local\\programs\\python\\python312\\lib\\site-packages (from imbalanced-learn) (1.3.2)\n",
            "Requirement already satisfied: threadpoolctl>=2.0.0 in c:\\users\\wsand\\appdata\\local\\programs\\python\\python312\\lib\\site-packages (from imbalanced-learn) (3.3.0)\n",
            "Downloading imbalanced_learn-0.12.2-py3-none-any.whl (257 kB)\n",
            "   ---------------------------------------- 0.0/258.0 kB ? eta -:--:--\n",
            "   --------- ------------------------------ 61.4/258.0 kB 1.7 MB/s eta 0:00:01\n",
            "   ---------------------------------------  256.0/258.0 kB 3.9 MB/s eta 0:00:01\n",
            "   ---------------------------------------- 258.0/258.0 kB 3.2 MB/s eta 0:00:00\n",
            "Installing collected packages: imbalanced-learn\n",
            "Successfully installed imbalanced-learn-0.12.2\n",
            "Note: you may need to restart the kernel to use updated packages.\n"
          ]
        }
      ],
      "source": [
        "%pip install imbalanced-learn"
      ]
    },
    {
      "cell_type": "code",
      "execution_count": 3,
      "metadata": {
        "id": "h_We5enSLQzK"
      },
      "outputs": [],
      "source": [
        "import pandas as pd\n",
        "import numpy as np\n",
        "import matplotlib.pyplot as plt\n",
        "import seaborn as sns\n",
        "\n",
        "from sklearn.metrics import confusion_matrix\n",
        "from sklearn.metrics import classification_report\n",
        "from sklearn.model_selection import train_test_split\n",
        "from sklearn.linear_model import LogisticRegression\n",
        "from sklearn.decomposition import PCA\n",
        "from sklearn.tree import DecisionTreeClassifier\n",
        "\n",
        "from pylab import rcParams\n",
        "\n",
        "from imblearn.under_sampling import NearMiss\n",
        "from imblearn.over_sampling import RandomOverSampler\n",
        "from imblearn.combine import SMOTETomek\n",
        "from imblearn.ensemble import BalancedBaggingClassifier\n",
        "\n",
        "from collections import Counter\n",
        "\n",
        "\n",
        "rcParams['figure.figsize'] = 14, 8.7 \n",
        "LABELS = [\"Normal\",\"Fraud\"]\n",
        "\n",
        "%matplotlib inline"
      ]
    },
    {
      "cell_type": "code",
      "execution_count": 4,
      "metadata": {
        "colab": {
          "base_uri": "https://localhost:8080/",
          "height": 300
        },
        "id": "i3kL6BADOobi",
        "outputId": "81de5f5e-390a-48d4-feaa-bc2d2a3c2cd2"
      },
      "outputs": [
        {
          "data": {
            "text/html": [
              "<div>\n",
              "<style scoped>\n",
              "    .dataframe tbody tr th:only-of-type {\n",
              "        vertical-align: middle;\n",
              "    }\n",
              "\n",
              "    .dataframe tbody tr th {\n",
              "        vertical-align: top;\n",
              "    }\n",
              "\n",
              "    .dataframe thead th {\n",
              "        text-align: right;\n",
              "    }\n",
              "</style>\n",
              "<table border=\"1\" class=\"dataframe\">\n",
              "  <thead>\n",
              "    <tr style=\"text-align: right;\">\n",
              "      <th></th>\n",
              "      <th>Time</th>\n",
              "      <th>V1</th>\n",
              "      <th>V2</th>\n",
              "      <th>V3</th>\n",
              "      <th>V4</th>\n",
              "      <th>V5</th>\n",
              "      <th>V6</th>\n",
              "      <th>V7</th>\n",
              "      <th>V8</th>\n",
              "      <th>V9</th>\n",
              "      <th>...</th>\n",
              "      <th>V21</th>\n",
              "      <th>V22</th>\n",
              "      <th>V23</th>\n",
              "      <th>V24</th>\n",
              "      <th>V25</th>\n",
              "      <th>V26</th>\n",
              "      <th>V27</th>\n",
              "      <th>V28</th>\n",
              "      <th>Amount</th>\n",
              "      <th>Class</th>\n",
              "    </tr>\n",
              "  </thead>\n",
              "  <tbody>\n",
              "    <tr>\n",
              "      <th>0</th>\n",
              "      <td>0.0</td>\n",
              "      <td>-1.359807</td>\n",
              "      <td>-0.072781</td>\n",
              "      <td>2.536347</td>\n",
              "      <td>1.378155</td>\n",
              "      <td>-0.338321</td>\n",
              "      <td>0.462388</td>\n",
              "      <td>0.239599</td>\n",
              "      <td>0.098698</td>\n",
              "      <td>0.363787</td>\n",
              "      <td>...</td>\n",
              "      <td>-0.018307</td>\n",
              "      <td>0.277838</td>\n",
              "      <td>-0.110474</td>\n",
              "      <td>0.066928</td>\n",
              "      <td>0.128539</td>\n",
              "      <td>-0.189115</td>\n",
              "      <td>0.133558</td>\n",
              "      <td>-0.021053</td>\n",
              "      <td>149.62</td>\n",
              "      <td>0</td>\n",
              "    </tr>\n",
              "    <tr>\n",
              "      <th>1</th>\n",
              "      <td>0.0</td>\n",
              "      <td>1.191857</td>\n",
              "      <td>0.266151</td>\n",
              "      <td>0.166480</td>\n",
              "      <td>0.448154</td>\n",
              "      <td>0.060018</td>\n",
              "      <td>-0.082361</td>\n",
              "      <td>-0.078803</td>\n",
              "      <td>0.085102</td>\n",
              "      <td>-0.255425</td>\n",
              "      <td>...</td>\n",
              "      <td>-0.225775</td>\n",
              "      <td>-0.638672</td>\n",
              "      <td>0.101288</td>\n",
              "      <td>-0.339846</td>\n",
              "      <td>0.167170</td>\n",
              "      <td>0.125895</td>\n",
              "      <td>-0.008983</td>\n",
              "      <td>0.014724</td>\n",
              "      <td>2.69</td>\n",
              "      <td>0</td>\n",
              "    </tr>\n",
              "    <tr>\n",
              "      <th>2</th>\n",
              "      <td>1.0</td>\n",
              "      <td>-1.358354</td>\n",
              "      <td>-1.340163</td>\n",
              "      <td>1.773209</td>\n",
              "      <td>0.379780</td>\n",
              "      <td>-0.503198</td>\n",
              "      <td>1.800499</td>\n",
              "      <td>0.791461</td>\n",
              "      <td>0.247676</td>\n",
              "      <td>-1.514654</td>\n",
              "      <td>...</td>\n",
              "      <td>0.247998</td>\n",
              "      <td>0.771679</td>\n",
              "      <td>0.909412</td>\n",
              "      <td>-0.689281</td>\n",
              "      <td>-0.327642</td>\n",
              "      <td>-0.139097</td>\n",
              "      <td>-0.055353</td>\n",
              "      <td>-0.059752</td>\n",
              "      <td>378.66</td>\n",
              "      <td>0</td>\n",
              "    </tr>\n",
              "    <tr>\n",
              "      <th>3</th>\n",
              "      <td>1.0</td>\n",
              "      <td>-0.966272</td>\n",
              "      <td>-0.185226</td>\n",
              "      <td>1.792993</td>\n",
              "      <td>-0.863291</td>\n",
              "      <td>-0.010309</td>\n",
              "      <td>1.247203</td>\n",
              "      <td>0.237609</td>\n",
              "      <td>0.377436</td>\n",
              "      <td>-1.387024</td>\n",
              "      <td>...</td>\n",
              "      <td>-0.108300</td>\n",
              "      <td>0.005274</td>\n",
              "      <td>-0.190321</td>\n",
              "      <td>-1.175575</td>\n",
              "      <td>0.647376</td>\n",
              "      <td>-0.221929</td>\n",
              "      <td>0.062723</td>\n",
              "      <td>0.061458</td>\n",
              "      <td>123.50</td>\n",
              "      <td>0</td>\n",
              "    </tr>\n",
              "    <tr>\n",
              "      <th>4</th>\n",
              "      <td>2.0</td>\n",
              "      <td>-1.158233</td>\n",
              "      <td>0.877737</td>\n",
              "      <td>1.548718</td>\n",
              "      <td>0.403034</td>\n",
              "      <td>-0.407193</td>\n",
              "      <td>0.095921</td>\n",
              "      <td>0.592941</td>\n",
              "      <td>-0.270533</td>\n",
              "      <td>0.817739</td>\n",
              "      <td>...</td>\n",
              "      <td>-0.009431</td>\n",
              "      <td>0.798278</td>\n",
              "      <td>-0.137458</td>\n",
              "      <td>0.141267</td>\n",
              "      <td>-0.206010</td>\n",
              "      <td>0.502292</td>\n",
              "      <td>0.219422</td>\n",
              "      <td>0.215153</td>\n",
              "      <td>69.99</td>\n",
              "      <td>0</td>\n",
              "    </tr>\n",
              "  </tbody>\n",
              "</table>\n",
              "<p>5 rows × 31 columns</p>\n",
              "</div>"
            ],
            "text/plain": [
              "   Time        V1        V2        V3        V4        V5        V6        V7  \\\n",
              "0   0.0 -1.359807 -0.072781  2.536347  1.378155 -0.338321  0.462388  0.239599   \n",
              "1   0.0  1.191857  0.266151  0.166480  0.448154  0.060018 -0.082361 -0.078803   \n",
              "2   1.0 -1.358354 -1.340163  1.773209  0.379780 -0.503198  1.800499  0.791461   \n",
              "3   1.0 -0.966272 -0.185226  1.792993 -0.863291 -0.010309  1.247203  0.237609   \n",
              "4   2.0 -1.158233  0.877737  1.548718  0.403034 -0.407193  0.095921  0.592941   \n",
              "\n",
              "         V8        V9  ...       V21       V22       V23       V24       V25  \\\n",
              "0  0.098698  0.363787  ... -0.018307  0.277838 -0.110474  0.066928  0.128539   \n",
              "1  0.085102 -0.255425  ... -0.225775 -0.638672  0.101288 -0.339846  0.167170   \n",
              "2  0.247676 -1.514654  ...  0.247998  0.771679  0.909412 -0.689281 -0.327642   \n",
              "3  0.377436 -1.387024  ... -0.108300  0.005274 -0.190321 -1.175575  0.647376   \n",
              "4 -0.270533  0.817739  ... -0.009431  0.798278 -0.137458  0.141267 -0.206010   \n",
              "\n",
              "        V26       V27       V28  Amount  Class  \n",
              "0 -0.189115  0.133558 -0.021053  149.62      0  \n",
              "1  0.125895 -0.008983  0.014724    2.69      0  \n",
              "2 -0.139097 -0.055353 -0.059752  378.66      0  \n",
              "3 -0.221929  0.062723  0.061458  123.50      0  \n",
              "4  0.502292  0.219422  0.215153   69.99      0  \n",
              "\n",
              "[5 rows x 31 columns]"
            ]
          },
          "execution_count": 4,
          "metadata": {},
          "output_type": "execute_result"
        }
      ],
      "source": [
        "df = pd.read_csv(\"https://github.com/nsethi31/Kaggle-Data-Credit-Card-Fraud-Detection/raw/master/creditcard.csv\") \n",
        "df.head(n=5) "
      ]
    },
    {
      "cell_type": "code",
      "execution_count": 5,
      "metadata": {
        "colab": {
          "base_uri": "https://localhost:8080/"
        },
        "id": "aaoQvwhZQI4y",
        "outputId": "f4c9b864-2de7-4959-f442-edb179ee03f4"
      },
      "outputs": [
        {
          "data": {
            "text/plain": [
              "(284807, 31)"
            ]
          },
          "execution_count": 5,
          "metadata": {},
          "output_type": "execute_result"
        }
      ],
      "source": [
        "df.shape"
      ]
    },
    {
      "cell_type": "code",
      "execution_count": 6,
      "metadata": {
        "colab": {
          "base_uri": "https://localhost:8080/"
        },
        "id": "-GDy0y1QTHnn",
        "outputId": "806d2f22-7bb0-4f53-d826-62c7f9ea3f6c"
      },
      "outputs": [
        {
          "name": "stderr",
          "output_type": "stream",
          "text": [
            "C:\\Users\\wsand\\AppData\\Local\\Temp\\ipykernel_2820\\1924577863.py:1: FutureWarning: pandas.value_counts is deprecated and will be removed in a future version. Use pd.Series(obj).value_counts() instead.\n",
            "  pd.value_counts(df['Class'], sort = True) #clase 0=Normal 1=Fraude\n"
          ]
        },
        {
          "data": {
            "text/plain": [
              "Class\n",
              "0    284315\n",
              "1       492\n",
              "Name: count, dtype: int64"
            ]
          },
          "execution_count": 6,
          "metadata": {},
          "output_type": "execute_result"
        }
      ],
      "source": [
        "pd.value_counts(df['Class'], sort = True) #clase 0=Normal 1=Fraude\n"
      ]
    },
    {
      "cell_type": "code",
      "execution_count": 7,
      "metadata": {
        "colab": {
          "base_uri": "https://localhost:8080/",
          "height": 772
        },
        "id": "gXo3CC_6TldV",
        "outputId": "d4870dde-09aa-4dee-9c60-b1769a575876"
      },
      "outputs": [
        {
          "name": "stderr",
          "output_type": "stream",
          "text": [
            "C:\\Users\\wsand\\AppData\\Local\\Temp\\ipykernel_2820\\167475358.py:1: FutureWarning: pandas.value_counts is deprecated and will be removed in a future version. Use pd.Series(obj).value_counts() instead.\n",
            "  count_classes = pd.value_counts(df['Class'], sort = True)\n"
          ]
        },
        {
          "data": {
            "image/png": "[encoded data removed]",
            "text/plain": [
              "<Figure size 1400x870 with 1 Axes>"
            ]
          },
          "metadata": {},
          "output_type": "display_data"
        }
      ],
      "source": [
        "count_classes = pd.value_counts(df['Class'], sort = True)\n",
        "count_classes.plot(kind = 'bar', rot=0)\n",
        "plt.xticks(range(2), LABELS)\n",
        "plt.title(\"Frecuencia por numero de observaciones\")\n",
        "plt.xlabel(\"Class\")\n",
        "plt.ylabel(\"Numero de Observaciones\");"
      ]
    },
    {
      "cell_type": "code",
      "execution_count": 8,
      "metadata": {
        "id": "SZFSa6ApT06k"
      },
      "outputs": [],
      "source": [
        "normal_df = df[df.Class == 0] \n",
        "fraud_df = df[df.Class == 1] "
      ]
    },
    {
      "cell_type": "markdown",
      "metadata": {
        "id": "z5Qfh2g0AJns"
      },
      "source": []
    },
    {
      "cell_type": "markdown",
      "metadata": {
        "id": "GLfHB6v1WUxn"
      },
      "source": [
        "## Estrategias para el manejo de Datos Desbalanceados:\n",
        "\n",
        "- Ajuste de Parámetros del modelo: Consiste en ajustar parametros ó metricas del propio algoritmo para intentar equilibrar a la clase minoritaria penalizando a la clase mayoritaria durante el entrenamiento. \n",
        "\n",
        "- Modificar el Dataset: podemos eliminar muestras de la clase mayoritaria para reducirlo e intentar equilibrar la situación. Tiene como “peligroso” que podemos prescindir de muestras importantes, que brindan información y por lo tanto empeorar el modelo. \n",
        "\n",
        "- Muestras artificiales: intentar crear muestras sintéticas (no idénticas) utilizando diversos algoritmos que intentan seguir la tendencia del grupo minoritario. Según el método, podemos mejorar los resultados. Lo peligroso de crear muestras sintéticas es que podemos alterar la distribución “natural” de esa clase y confundir al modelo en su clasificación.\n",
        "\n",
        "- Balanced Ensemble Methods: Utiliza las ventajas de hacer ensamble de métodos, es decir, entrenar diversos modelos y entre todos obtener el resultado final (por ejemplo “votando”) pero se asegura de tomar muestras de entrenamiento equilibradas.\n",
        "Apliquemos estas técnicas de a una a nuestro código y veamos los resultados."
      ]
    },
    {
      "cell_type": "code",
      "execution_count": 10,
      "metadata": {},
      "outputs": [
        {
          "name": "stdout",
          "output_type": "stream",
          "text": [
            "Collecting xgboost\n",
            "  Downloading xgboost-2.0.3-py3-none-win_amd64.whl.metadata (2.0 kB)\n",
            "Requirement already satisfied: numpy in c:\\users\\wsand\\appdata\\local\\programs\\python\\python312\\lib\\site-packages (from xgboost) (1.26.4)\n",
            "Requirement already satisfied: scipy in c:\\users\\wsand\\appdata\\local\\programs\\python\\python312\\lib\\site-packages (from xgboost) (1.11.4)\n",
            "Downloading xgboost-2.0.3-py3-none-win_amd64.whl (99.8 MB)\n",
            "   ---------------------------------------- 0.0/99.8 MB ? eta -:--:--\n",
            "   ---------------------------------------- 0.0/99.8 MB ? eta -:--:--\n",
            "   ---------------------------------------- 0.0/99.8 MB 217.9 kB/s eta 0:07:38\n",
            "   ---------------------------------------- 0.0/99.8 MB 217.9 kB/s eta 0:07:38\n",
            "   ---------------------------------------- 0.0/99.8 MB 108.9 kB/s eta 0:15:16\n",
            "   ---------------------------------------- 0.0/99.8 MB 151.3 kB/s eta 0:10:59\n",
            "   ---------------------------------------- 0.1/99.8 MB 192.5 kB/s eta 0:08:38\n",
            "   ---------------------------------------- 0.1/99.8 MB 241.3 kB/s eta 0:06:53\n",
            "   ---------------------------------------- 0.2/99.8 MB 436.9 kB/s eta 0:03:48\n",
            "   ---------------------------------------- 0.4/99.8 MB 1.0 MB/s eta 0:01:37\n",
            "    --------------------------------------- 1.3/99.8 MB 2.8 MB/s eta 0:00:35\n",
            "    --------------------------------------- 2.1/99.8 MB 4.2 MB/s eta 0:00:24\n",
            "   - -------------------------------------- 3.3/99.8 MB 5.9 MB/s eta 0:00:17\n",
            "   - -------------------------------------- 4.5/99.8 MB 7.4 MB/s eta 0:00:13\n",
            "   -- ------------------------------------- 5.0/99.8 MB 7.8 MB/s eta 0:00:13\n",
            "   -- ------------------------------------- 6.1/99.8 MB 8.7 MB/s eta 0:00:11\n",
            "   -- ------------------------------------- 7.1/99.8 MB 9.6 MB/s eta 0:00:10\n",
            "   --- ------------------------------------ 8.1/99.8 MB 10.5 MB/s eta 0:00:09\n",
            "   --- ------------------------------------ 9.0/99.8 MB 10.9 MB/s eta 0:00:09\n",
            "   ---- ----------------------------------- 10.1/99.8 MB 11.7 MB/s eta 0:00:08\n",
            "   ---- ----------------------------------- 11.3/99.8 MB 21.8 MB/s eta 0:00:05\n",
            "   ----- ---------------------------------- 12.5/99.8 MB 22.6 MB/s eta 0:00:04\n",
            "   ----- ---------------------------------- 13.2/99.8 MB 22.6 MB/s eta 0:00:04\n",
            "   ----- ---------------------------------- 14.3/99.8 MB 21.8 MB/s eta 0:00:04\n",
            "   ------ --------------------------------- 15.2/99.8 MB 22.6 MB/s eta 0:00:04\n",
            "   ------ --------------------------------- 16.0/99.8 MB 23.4 MB/s eta 0:00:04\n",
            "   ------ --------------------------------- 16.0/99.8 MB 23.4 MB/s eta 0:00:04\n",
            "   ------ --------------------------------- 16.0/99.8 MB 23.4 MB/s eta 0:00:04\n",
            "   ------ --------------------------------- 16.0/99.8 MB 23.4 MB/s eta 0:00:04\n",
            "   ------- -------------------------------- 18.5/99.8 MB 19.2 MB/s eta 0:00:05\n",
            "   -------- ------------------------------- 21.1/99.8 MB 22.5 MB/s eta 0:00:04\n",
            "   -------- ------------------------------- 22.3/99.8 MB 22.6 MB/s eta 0:00:04\n",
            "   --------- ------------------------------ 23.5/99.8 MB 23.4 MB/s eta 0:00:04\n",
            "   --------- ------------------------------ 24.4/99.8 MB 23.4 MB/s eta 0:00:04\n",
            "   ---------- ----------------------------- 25.1/99.8 MB 22.6 MB/s eta 0:00:04\n",
            "   ---------- ----------------------------- 26.2/99.8 MB 22.6 MB/s eta 0:00:04\n",
            "   ---------- ----------------------------- 27.3/99.8 MB 31.2 MB/s eta 0:00:03\n",
            "   ----------- ---------------------------- 28.3/99.8 MB 28.5 MB/s eta 0:00:03\n",
            "   ----------- ---------------------------- 29.2/99.8 MB 27.3 MB/s eta 0:00:03\n",
            "   ----------- ---------------------------- 29.8/99.8 MB 25.2 MB/s eta 0:00:03\n",
            "   ------------ --------------------------- 31.0/99.8 MB 23.4 MB/s eta 0:00:03\n",
            "   ------------ --------------------------- 31.8/99.8 MB 22.6 MB/s eta 0:00:04\n",
            "   ------------ --------------------------- 32.3/99.8 MB 21.8 MB/s eta 0:00:04\n",
            "   ------------- -------------------------- 33.0/99.8 MB 20.5 MB/s eta 0:00:04\n",
            "   ------------- -------------------------- 33.7/99.8 MB 19.8 MB/s eta 0:00:04\n",
            "   ------------- -------------------------- 34.6/99.8 MB 19.3 MB/s eta 0:00:04\n",
            "   -------------- ------------------------- 35.3/99.8 MB 19.8 MB/s eta 0:00:04\n",
            "   -------------- ------------------------- 36.2/99.8 MB 19.3 MB/s eta 0:00:04\n",
            "   -------------- ------------------------- 36.8/99.8 MB 19.3 MB/s eta 0:00:04\n",
            "   --------------- ------------------------ 37.4/99.8 MB 17.7 MB/s eta 0:00:04\n",
            "   --------------- ------------------------ 38.3/99.8 MB 18.7 MB/s eta 0:00:04\n",
            "   --------------- ------------------------ 39.1/99.8 MB 18.2 MB/s eta 0:00:04\n",
            "   --------------- ------------------------ 39.8/99.8 MB 18.2 MB/s eta 0:00:04\n",
            "   ---------------- ----------------------- 40.4/99.8 MB 17.7 MB/s eta 0:00:04\n",
            "   ---------------- ----------------------- 41.2/99.8 MB 16.8 MB/s eta 0:00:04\n",
            "   ---------------- ----------------------- 41.7/99.8 MB 16.4 MB/s eta 0:00:04\n",
            "   ----------------- ---------------------- 42.5/99.8 MB 16.8 MB/s eta 0:00:04\n",
            "   ----------------- ---------------------- 43.2/99.8 MB 16.8 MB/s eta 0:00:04\n",
            "   ----------------- ---------------------- 44.0/99.8 MB 16.8 MB/s eta 0:00:04\n",
            "   ------------------ --------------------- 45.1/99.8 MB 17.2 MB/s eta 0:00:04\n",
            "   ------------------ --------------------- 46.0/99.8 MB 17.7 MB/s eta 0:00:04\n",
            "   ------------------ --------------------- 46.9/99.8 MB 17.7 MB/s eta 0:00:03\n",
            "   ------------------- -------------------- 47.9/99.8 MB 18.2 MB/s eta 0:00:03\n",
            "   ------------------- -------------------- 48.8/99.8 MB 18.2 MB/s eta 0:00:03\n",
            "   -------------------- ------------------- 50.0/99.8 MB 19.9 MB/s eta 0:00:03\n",
            "   -------------------- ------------------- 50.9/99.8 MB 19.9 MB/s eta 0:00:03\n",
            "   -------------------- ------------------- 52.0/99.8 MB 21.8 MB/s eta 0:00:03\n",
            "   --------------------- ------------------ 52.6/99.8 MB 20.5 MB/s eta 0:00:03\n",
            "   --------------------- ------------------ 53.7/99.8 MB 21.8 MB/s eta 0:00:03\n",
            "   --------------------- ------------------ 54.6/99.8 MB 22.6 MB/s eta 0:00:02\n",
            "   ---------------------- ----------------- 55.4/99.8 MB 21.8 MB/s eta 0:00:03\n",
            "   ---------------------- ----------------- 56.6/99.8 MB 22.6 MB/s eta 0:00:02\n",
            "   ----------------------- ---------------- 57.7/99.8 MB 23.4 MB/s eta 0:00:02\n",
            "   ----------------------- ---------------- 58.8/99.8 MB 22.5 MB/s eta 0:00:02\n",
            "   ------------------------ --------------- 60.1/99.8 MB 23.4 MB/s eta 0:00:02\n",
            "   ------------------------ --------------- 61.1/99.8 MB 23.4 MB/s eta 0:00:02\n",
            "   ------------------------ --------------- 62.1/99.8 MB 24.2 MB/s eta 0:00:02\n",
            "   ------------------------- -------------- 63.4/99.8 MB 24.3 MB/s eta 0:00:02\n",
            "   ------------------------- -------------- 64.5/99.8 MB 24.2 MB/s eta 0:00:02\n",
            "   -------------------------- ------------- 65.4/99.8 MB 24.2 MB/s eta 0:00:02\n",
            "   -------------------------- ------------- 66.6/99.8 MB 24.2 MB/s eta 0:00:02\n",
            "   --------------------------- ------------ 67.6/99.8 MB 24.2 MB/s eta 0:00:02\n",
            "   --------------------------- ------------ 68.2/99.8 MB 23.4 MB/s eta 0:00:02\n",
            "   --------------------------- ------------ 69.3/99.8 MB 22.6 MB/s eta 0:00:02\n",
            "   ---------------------------- ----------- 70.6/99.8 MB 22.5 MB/s eta 0:00:02\n",
            "   ---------------------------- ----------- 71.7/99.8 MB 22.6 MB/s eta 0:00:02\n",
            "   ----------------------------- ---------- 72.8/99.8 MB 22.6 MB/s eta 0:00:02\n",
            "   ----------------------------- ---------- 73.9/99.8 MB 22.6 MB/s eta 0:00:02\n",
            "   ------------------------------ --------- 75.1/99.8 MB 24.3 MB/s eta 0:00:02\n",
            "   ------------------------------ --------- 76.1/99.8 MB 22.6 MB/s eta 0:00:02\n",
            "   ------------------------------ --------- 77.2/99.8 MB 23.4 MB/s eta 0:00:01\n",
            "   ------------------------------- -------- 78.2/99.8 MB 25.2 MB/s eta 0:00:01\n",
            "   ------------------------------- -------- 79.4/99.8 MB 25.2 MB/s eta 0:00:01\n",
            "   -------------------------------- ------- 80.4/99.8 MB 25.2 MB/s eta 0:00:01\n",
            "   -------------------------------- ------- 81.6/99.8 MB 24.2 MB/s eta 0:00:01\n",
            "   --------------------------------- ------ 82.9/99.8 MB 25.2 MB/s eta 0:00:01\n",
            "   --------------------------------- ------ 84.0/99.8 MB 26.2 MB/s eta 0:00:01\n",
            "   ---------------------------------- ----- 85.4/99.8 MB 26.2 MB/s eta 0:00:01\n",
            "   ---------------------------------- ----- 86.3/99.8 MB 25.1 MB/s eta 0:00:01\n",
            "   ----------------------------------- ---- 87.6/99.8 MB 26.2 MB/s eta 0:00:01\n",
            "   ----------------------------------- ---- 88.7/99.8 MB 25.2 MB/s eta 0:00:01\n",
            "   ----------------------------------- ---- 89.5/99.8 MB 24.2 MB/s eta 0:00:01\n",
            "   ------------------------------------ --- 90.6/99.8 MB 25.2 MB/s eta 0:00:01\n",
            "   ------------------------------------ --- 91.7/99.8 MB 25.2 MB/s eta 0:00:01\n",
            "   ------------------------------------- -- 92.8/99.8 MB 25.2 MB/s eta 0:00:01\n",
            "   ------------------------------------- -- 94.1/99.8 MB 25.2 MB/s eta 0:00:01\n",
            "   -------------------------------------- - 95.2/99.8 MB 25.2 MB/s eta 0:00:01\n",
            "   -------------------------------------- - 96.2/99.8 MB 25.2 MB/s eta 0:00:01\n",
            "   ---------------------------------------  97.3/99.8 MB 25.2 MB/s eta 0:00:01\n",
            "   ---------------------------------------  98.6/99.8 MB 25.2 MB/s eta 0:00:01\n",
            "   ---------------------------------------  99.7/99.8 MB 27.3 MB/s eta 0:00:01\n",
            "   ---------------------------------------  99.7/99.8 MB 26.2 MB/s eta 0:00:01\n",
            "   ---------------------------------------  99.7/99.8 MB 26.2 MB/s eta 0:00:01\n",
            "   ---------------------------------------  99.7/99.8 MB 26.2 MB/s eta 0:00:01\n",
            "   ---------------------------------------  99.7/99.8 MB 26.2 MB/s eta 0:00:01\n",
            "   ---------------------------------------  99.7/99.8 MB 26.2 MB/s eta 0:00:01\n",
            "   ---------------------------------------  99.7/99.8 MB 26.2 MB/s eta 0:00:01\n",
            "   ---------------------------------------  99.7/99.8 MB 26.2 MB/s eta 0:00:01\n",
            "   ---------------------------------------  99.7/99.8 MB 26.2 MB/s eta 0:00:01\n",
            "   ---------------------------------------- 99.8/99.8 MB 13.1 MB/s eta 0:00:00\n",
            "Installing collected packages: xgboost\n",
            "Successfully installed xgboost-2.0.3\n",
            "Note: you may need to restart the kernel to use updated packages.\n"
          ]
        }
      ],
      "source": [
        "#%pip install xgboost"
      ]
    },
    {
      "cell_type": "code",
      "execution_count": 12,
      "metadata": {
        "colab": {
          "base_uri": "https://localhost:8080/"
        },
        "id": "8WKQClg8W7b6",
        "outputId": "b0e5373d-3631-4da3-c2e7-8d4f9f19194b"
      },
      "outputs": [
        {
          "name": "stdout",
          "output_type": "stream",
          "text": [
            "              precision    recall  f1-score   support\n",
            "\n",
            "           0       1.00      1.00      1.00     85262\n",
            "           1       0.96      0.73      0.83       181\n",
            "\n",
            "    accuracy                           1.00     85443\n",
            "   macro avg       0.98      0.87      0.92     85443\n",
            "weighted avg       1.00      1.00      1.00     85443\n",
            "\n"
          ]
        }
      ],
      "source": [
        "y = df['Class']\n",
        "X = df.drop('Class', axis=1)\n",
        "#dividimos en sets de entrenamiento y test\n",
        "X_train, X_test, y_train, y_test = train_test_split(X, y, train_size=0.7)\n",
        " \n",
        " # import linrary\n",
        "from xgboost import XGBClassifier\n",
        "\n",
        "xgb_model = XGBClassifier().fit(X_train, y_train)\n",
        "\n",
        "# predict\n",
        "pred_y = xgb_model.predict(X_test)\n",
        "\n",
        "print (classification_report(y_test, pred_y))"
      ]
    },
    {
      "cell_type": "code",
      "execution_count": null,
      "metadata": {
        "colab": {
          "base_uri": "https://localhost:8080/",
          "height": 1000
        },
        "id": "98kTP4bKBxjV",
        "outputId": "059a91b6-9670-44a9-f43c-88130eec8651"
      },
      "outputs": [
        {
          "data": {
            "text/plain": [
              "<Axes: >"
            ]
          },
          "execution_count": 13,
          "metadata": {},
          "output_type": "execute_result"
        },
        {
          "data": {
            "image/png": "[encoded data removed]",
            "text/plain": [
              "<Figure size 1200x1200 with 2 Axes>"
            ]
          },
          "metadata": {},
          "output_type": "display_data"
        }
      ],
      "source": [
        "conf_matrix = confusion_matrix(y_test, pred_y)\n",
        "plt.figure(figsize=(6, 6))\n",
        "sns.heatmap(conf_matrix, xticklabels=LABELS, yticklabels=LABELS, annot=True, fmt=\"d\")"
      ]
    },
    {
      "cell_type": "markdown",
      "metadata": {
        "id": "r3ZZFQ96X1Cu"
      },
      "source": [
        "- En la clase 2  vemos ---- fallos y ---- aciertos dando un recall de ---- \n",
        "\n",
        "- También es interesante notar que en la columna de f1-score obtenemos muy buenos resultados PERO que realmente no nos deben engañar… pues están reflejando una realidad parcial. \n",
        "\n",
        "- Lo cierto es que nuestro modelo no es capaz de detectar correctamente los casos de Fraude."
      ]
    },
    {
      "cell_type": "code",
      "execution_count": 14,
      "metadata": {
        "colab": {
          "base_uri": "https://localhost:8080/"
        },
        "id": "zKI8skp5D0_z",
        "outputId": "3061d31d-88e7-4172-d56c-f3f8987b288f"
      },
      "outputs": [
        {
          "name": "stdout",
          "output_type": "stream",
          "text": [
            "class 0: (284315, 31)\n",
            "class 1: (492, 31)\n"
          ]
        }
      ],
      "source": [
        "# conteo de clases\n",
        "class_count_0, class_count_1 = df['Class'].value_counts()\n",
        "\n",
        "# Separar las clases\n",
        "class_0 = df[df['Class'] == 0]\n",
        "class_1 = df[df['Class'] == 1]\n",
        "print('class 0:', class_0.shape)\n",
        "print('class 1:', class_1.shape)"
      ]
    },
    {
      "cell_type": "markdown",
      "metadata": {
        "id": "NI4vtWBCE4RP"
      },
      "source": [
        "## Técnica de remuestreo\n",
        "\n",
        "Una técnica ampliamente adoptada para manejar conjuntos de datos altamente desequilibrados se llama remuestreo. Consiste en quitar muestras de la clase mayoritaria (under-sampling) y/o añadir más muestras de la clase minoritaria (over-sampling).\n",
        "\n",
        "<img src=\"https://miro.medium.com/max/725/1*H6XodlitlGDl9YdbwaZLMw.png\">\n",
        "\n",
        "\n",
        "A pesar de la ventaja de equilibrar las clases, estas técnicas también tienen sus debilidades\n",
        "\n",
        "- La implementación más simple del sobremuestreo es duplicar registros aleatorios de la clase minoritaria, lo que puede causar sobrepesca.\n",
        "\n",
        "- En el submuestreo , la técnica más sencilla consiste en eliminar registros aleatorios de la clase mayoritaria, lo que puede provocar la pérdida de información.\n"
      ]
    },
    {
      "cell_type": "markdown",
      "metadata": {
        "id": "aUIujVFCFk0v"
      },
      "source": [
        "1. ## Submuestreo aleatorio\n",
        "\n",
        "El submuestreo se puede definir como la eliminación de algunas observaciones de la clase mayoritaria . Esto se hace hasta que la clase mayoritaria y minoritaria se equilibra.\n",
        "\n"
      ]
    },
    {
      "cell_type": "code",
      "execution_count": 15,
      "metadata": {
        "colab": {
          "base_uri": "https://localhost:8080/",
          "height": 816
        },
        "id": "TepXaIJLEqNH",
        "outputId": "506c983d-af1b-489a-8b15-9ae5192ab55c"
      },
      "outputs": [
        {
          "name": "stdout",
          "output_type": "stream",
          "text": [
            "total claseds de 1 y 0: Class\n",
            "0    492\n",
            "1    492\n",
            "Name: count, dtype: int64\n"
          ]
        },
        {
          "data": {
            "text/plain": [
              "<Axes: title={'center': 'count (target)'}, xlabel='Class'>"
            ]
          },
          "execution_count": 15,
          "metadata": {},
          "output_type": "execute_result"
        },
        {
          "data": {
            "image/png": "[encoded data removed]",
            "text/plain": [
              "<Figure size 1400x870 with 1 Axes>"
            ]
          },
          "metadata": {},
          "output_type": "display_data"
        }
      ],
      "source": [
        "class_0_under = class_0.sample(class_count_1)\n",
        "\n",
        "test_under = pd.concat([class_0_under, class_1], axis=0)\n",
        "\n",
        "print(\"total claseds de 1 y 0:\",test_under['Class'].value_counts())\n",
        "test_under['Class'].value_counts().plot(kind='bar', title='count (target)')"
      ]
    },
    {
      "cell_type": "markdown",
      "metadata": {
        "id": "JHseZuU9F0jG"
      },
      "source": [
        "## Sobremuestreo aleatorio\n",
        "El sobremuestreo se puede definir como agregar más copias a la clase minoritaria. El sobremuestreo puede ser una buena opción cuando no tiene muchos datos con los que trabajar.\n",
        "\n",
        "Una desventaja a tener en cuenta cuando se realiza un submuestreo es que puede causar un sobreajuste y una mala generalización de su conjunto de prueba."
      ]
    },
    {
      "cell_type": "code",
      "execution_count": 16,
      "metadata": {
        "colab": {
          "base_uri": "https://localhost:8080/",
          "height": 816
        },
        "id": "5RtqkWqYH-4z",
        "outputId": "326d853f-c8e5-4ea5-c996-126632a04e08"
      },
      "outputs": [
        {
          "name": "stdout",
          "output_type": "stream",
          "text": [
            "total class of 1 and 0: Class\n",
            "0    492\n",
            "1    492\n",
            "Name: count, dtype: int64\n"
          ]
        },
        {
          "data": {
            "text/plain": [
              "<Axes: title={'center': 'count (target)'}, xlabel='Class'>"
            ]
          },
          "execution_count": 16,
          "metadata": {},
          "output_type": "execute_result"
        },
        {
          "data": {
            "image/png": "[encoded data removed]",
            "text/plain": [
              "<Figure size 1400x870 with 1 Axes>"
            ]
          },
          "metadata": {},
          "output_type": "display_data"
        }
      ],
      "source": [
        "class_1_over = class_1.sample(class_count_0, replace=True)\n",
        "\n",
        "test_over = pd.concat([class_1_over, class_0], axis=0)\n",
        "\n",
        "print(\"total class of 1 and 0:\",test_under['Class'].value_counts())\n",
        "test_over['Class'].value_counts().plot(kind='bar', title='count (target)')"
      ]
    },
    {
      "cell_type": "markdown",
      "metadata": {
        "id": "LqLhxbxNIQJL"
      },
      "source": [
        "## Equilibre los datos imblearn\n",
        "\n",
        "\n",
        "Agrupar los registros de la clase mayoritaria y hacer el submuestreo eliminando registros de cada grupo, buscando así preservar la información. En el sobremuestreo, en lugar de crear copias exactas de los registros de las clases minoritarias, podemos introducir pequeñas variaciones en esas copias, creando muestras sintéticas más diversas.\n",
        "\n"
      ]
    },
    {
      "cell_type": "code",
      "execution_count": 17,
      "metadata": {
        "id": "oabF_S_DIkA3"
      },
      "outputs": [],
      "source": [
        "import imblearn\n"
      ]
    },
    {
      "cell_type": "markdown",
      "metadata": {
        "id": "7YjgszHCIodN"
      },
      "source": [
        "## 3. Submuestreo aleatorio con imblearn\n",
        "RandomUnderSampleres una forma rápida y sencilla de equilibrar los datos seleccionando aleatoriamente un subconjunto de datos para las clases objetivo. Muestrear por debajo de la(s) clase(s) mayoritaria(s) seleccionando muestras al azar con o sin reemplazo."
      ]
    },
    {
      "cell_type": "code",
      "execution_count": 18,
      "metadata": {
        "colab": {
          "base_uri": "https://localhost:8080/"
        },
        "id": "FhLdc2uDIo4h",
        "outputId": "01fefaf9-d989-4346-8b7b-02d0e9aefd1e"
      },
      "outputs": [
        {
          "name": "stdout",
          "output_type": "stream",
          "text": [
            "original dataset shape: Counter({0: 284315, 1: 492})\n",
            "Resample dataset shape Counter({0: 311, 1: 311})\n"
          ]
        }
      ],
      "source": [
        "from imblearn.under_sampling import RandomUnderSampler\n",
        "\n",
        "rus = RandomUnderSampler(random_state=42, replacement=True)\n",
        "x_rus, y_rus = rus.fit_resample(X_train, y_train)\n",
        "\n",
        "print('original dataset shape:', Counter(y))\n",
        "print('Resample dataset shape', Counter(y_rus))"
      ]
    },
    {
      "cell_type": "markdown",
      "metadata": {
        "id": "Ty1gZAFhKF6g"
      },
      "source": [
        "## Sobremuestreo aleatorio con imblearn\n",
        "\n",
        "Una forma de combatir los datos desequilibrados es generar nuevas muestras en las clases minoritarias. La estrategia  es generar nuevas muestras mediante muestreo aleatorio con reemplazo de las muestras actualmente disponibles. Las RandomOverSamplerofertas de tal esquema."
      ]
    },
    {
      "cell_type": "code",
      "execution_count": 19,
      "metadata": {
        "colab": {
          "base_uri": "https://localhost:8080/"
        },
        "id": "MjKlM62aKQ7B",
        "outputId": "a538c0fe-de60-45b2-fa7a-2006f8af2707"
      },
      "outputs": [
        {
          "name": "stdout",
          "output_type": "stream",
          "text": [
            "Original dataset shape Counter({0: 199053, 1: 311})\n",
            "Resample dataset shape Counter({0: 199053, 1: 199053})\n"
          ]
        }
      ],
      "source": [
        "# import libreria\n",
        "from imblearn.over_sampling import RandomOverSampler\n",
        "\n",
        "ros = RandomOverSampler(random_state=42)\n",
        "\n",
        "# ajustar predictor y variable objetivo\n",
        "x_ros, y_ros = ros.fit_resample(X_train, y_train)\n",
        "\n",
        "print('Original dataset shape', Counter(y_train))\n",
        "print('Resample dataset shape', Counter(y_ros))"
      ]
    },
    {
      "cell_type": "markdown",
      "metadata": {
        "id": "BA7oPKmAO5x1"
      },
      "source": [
        "## 5. Submuestreo: enlaces Tomek\n",
        "Los enlaces Tomek son pares de instancias muy cercanas pero de clases opuestas. Eliminar las instancias de la clase mayoritaria de cada par aumenta el espacio entre las dos clases, lo que facilita el proceso de clasificación.\n",
        "\n",
        "El enlace de Tomek existe si las dos muestras son los vecinos más cercanos entre sí\n",
        "\n",
        "\n",
        "<img src=\"https://miro.medium.com/max/640/1*KxFmI15rxhvKRVl-febp-Q.png\">\n"
      ]
    },
    {
      "cell_type": "code",
      "execution_count": 20,
      "metadata": {
        "colab": {
          "base_uri": "https://localhost:8080/"
        },
        "id": "MVMLkfM8O6St",
        "outputId": "16f72e3a-9494-4ac2-b9f7-278916a8142d"
      },
      "outputs": [
        {
          "name": "stdout",
          "output_type": "stream",
          "text": [
            "Original dataset shape Counter({0: 199053, 1: 311})\n",
            "Resample dataset shape Counter({0: 199053, 1: 199053})\n"
          ]
        }
      ],
      "source": [
        "from imblearn.under_sampling import TomekLinks\n",
        "\n",
        "tl = RandomOverSampler(sampling_strategy='majority')\n",
        "\n",
        "# predictor de ajuste y variable objetivo\n",
        "x_tl, y_tl = ros.fit_resample(X_train, y_train)\n",
        "\n",
        "print('Original dataset shape', Counter(y_train))\n",
        "print('Resample dataset shape', Counter(y_tl))"
      ]
    },
    {
      "cell_type": "markdown",
      "metadata": {
        "id": "AvEi5DDXPxOv"
      },
      "source": [
        "## 6.Técnica de sobremuestreo minoritario sintético (SMOTE)\n",
        "Esta técnica genera datos sintéticos para la clase minoritaria.\n",
        "\n",
        "SMOTE (técnica de sobremuestreo de minorías sintéticas) funciona seleccionando aleatoriamente un punto de la clase minoritaria y calculando los k-vecinos más cercanos para este punto. \n",
        "\n",
        "<img src=\"https://miro.medium.com/max/734/1*yRumRhn89acByodBz0H7oA.png\">\n",
        "\n",
        " Los puntos sintéticos se suman entre el punto elegido y sus vecinos.\n",
        "\n",
        "algoritmo SMOTE funciona:\n",
        "\n",
        "- Elija una clase minoritaria como vector de entrada\n",
        "- Encuentre sus k vecinos más cercanos ( k_neighbors se especifica como un argumento en la función SMOTE() )\n",
        "- Elija uno de estos vecinos y coloque un punto sintético en cualquier lugar de la línea que une el punto en consideración y su vecino elegido\n",
        "- Repita los pasos hasta que los datos estén equilibrados."
      ]
    },
    {
      "cell_type": "code",
      "execution_count": 21,
      "metadata": {
        "colab": {
          "base_uri": "https://localhost:8080/"
        },
        "id": "VwO5ZuuJQdry",
        "outputId": "c4cf53d7-d4d4-4318-da7c-d4f7036852bc"
      },
      "outputs": [
        {
          "name": "stdout",
          "output_type": "stream",
          "text": [
            "Original dataset shape Counter({0: 284315, 1: 492})\n",
            "Resample dataset shape Counter({0: 85262, 1: 85262})\n"
          ]
        }
      ],
      "source": [
        "from imblearn.over_sampling import SMOTE\n",
        "\n",
        "smote = SMOTE()\n",
        "\n",
        "# Ajuste del predicto y variable objetivo\n",
        "x_smote, y_smote = smote.fit_resample(X_test, y_test)\n",
        "\n",
        "print('Original dataset tamaño', Counter(y))\n",
        "print('Resample dataset tamaño', Counter(y_smote))"
      ]
    },
    {
      "cell_type": "markdown",
      "metadata": {
        "id": "pTu02v97RDZ_"
      },
      "source": [
        "## 7. NearMiss\n",
        "NearMiss es una técnica de submuestreo. En lugar de volver a muestrear la clase minoritaria, usando una distancia, esto hará que la clase mayoritaria sea igual a la clase minoritaria."
      ]
    },
    {
      "cell_type": "code",
      "execution_count": 22,
      "metadata": {
        "colab": {
          "base_uri": "https://localhost:8080/"
        },
        "id": "JbEDhWtnRCBu",
        "outputId": "2ec02c6c-fcf6-4df9-873c-c6c0ef6b4f7d"
      },
      "outputs": [
        {
          "name": "stdout",
          "output_type": "stream",
          "text": [
            "Original dataset shape: Counter({0: 199053, 1: 311})\n",
            "Resample dataset shape: Counter({0: 311, 1: 311})\n"
          ]
        }
      ],
      "source": [
        "from imblearn.under_sampling import NearMiss\n",
        "\n",
        "nm = NearMiss()\n",
        "\n",
        "x_nm, y_nm = nm.fit_resample(X_train, y_train)\n",
        "\n",
        "print('Original dataset shape:', Counter(y_train))\n",
        "print('Resample dataset shape:', Counter(y_nm))"
      ]
    },
    {
      "cell_type": "markdown",
      "metadata": {
        "id": "R118pcZLRk6o"
      },
      "source": [
        "## 8. Cambia la métrica de rendimiento\n",
        "La precisión no es la mejor métrica para usar al evaluar conjuntos de datos desequilibrados, ya que puede ser engañosa.\n",
        "\n",
        "Las métricas que pueden proporcionar una mejor perspectiva son:\n",
        "\n",
        "- Matriz de confusión: una tabla que muestra las predicciones correctas y los tipos de predicciones incorrectas.\n",
        "\n",
        "- Precisión: el número de verdaderos positivos dividido por todas las predicciones positivas. La precisión también se denomina valor predictivo positivo. Es una medida de la exactitud de un clasificador. La baja precisión indica un alto número de falsos positivos.\n",
        "\n",
        "- Recall: el número de verdaderos positivos dividido por el número de valores positivos en los datos de prueba. El retiro también se llama Sensibilidad o Tasa de verdaderos positivos. Es una medida de la integridad de un clasificador. Un recuerdo bajo indica un alto número de falsos negativos.\n",
        "\n",
        "\n",
        "- F1 Score: el promedio ponderado de precisión y recuperación.\n",
        "- Área bajo la curva ROC (AUROC): AUROC representa la probabilidad de que su modelo distinga las observaciones de dos clases.\n",
        "En otras palabras, si selecciona al azar una observación de cada clase, ¿cuál es la probabilidad de que su modelo pueda \"clasificarlas\" correctamente?"
      ]
    },
    {
      "cell_type": "markdown",
      "metadata": {
        "id": "gnLzF1RCVGng"
      },
      "source": [
        "## Cambiar el algoritmo\n",
        "\n",
        "Aunque en todos los problemas de aprendizaje automático es una buena regla general probar varios algoritmos, puede ser especialmente beneficioso con conjuntos de datos desequilibrados.\n",
        "\n",
        "Los árboles de decisión suelen funcionar bien con datos desequilibrados. En el aprendizaje automático moderno, los conjuntos de árboles (Random Forests, Gradient Boosted Trees, etc.) casi siempre superan a los árboles de decisión singulares, así que pasaremos directamente a ellos:\n",
        "\n",
        "Los algoritmos basados en árboles funcionan aprendiendo una jerarquía de preguntas if/else. \n"
      ]
    },
    {
      "cell_type": "code",
      "execution_count": 23,
      "metadata": {
        "colab": {
          "base_uri": "https://localhost:8080/",
          "height": 363
        },
        "id": "VlKCKZidVFmJ",
        "outputId": "d01f435b-b7bc-49bb-860c-5e74f886428a"
      },
      "outputs": [
        {
          "data": {
            "text/html": [
              "<style>#sk-container-id-1 {\n",
              "  /* Definition of color scheme common for light and dark mode */\n",
              "  --sklearn-color-text: black;\n",
              "  --sklearn-color-line: gray;\n",
              "  /* Definition of color scheme for unfitted estimators */\n",
              "  --sklearn-color-unfitted-level-0: #fff5e6;\n",
              "  --sklearn-color-unfitted-level-1: #f6e4d2;\n",
              "  --sklearn-color-unfitted-level-2: #ffe0b3;\n",
              "  --sklearn-color-unfitted-level-3: chocolate;\n",
              "  /* Definition of color scheme for fitted estimators */\n",
              "  --sklearn-color-fitted-level-0: #f0f8ff;\n",
              "  --sklearn-color-fitted-level-1: #d4ebff;\n",
              "  --sklearn-color-fitted-level-2: #b3dbfd;\n",
              "  --sklearn-color-fitted-level-3: cornflowerblue;\n",
              "\n",
              "  /* Specific color for light theme */\n",
              "  --sklearn-color-text-on-default-background: var(--sg-text-color, var(--theme-code-foreground, var(--jp-content-font-color1, black)));\n",
              "  --sklearn-color-background: var(--sg-background-color, var(--theme-background, var(--jp-layout-color0, white)));\n",
              "  --sklearn-color-border-box: var(--sg-text-color, var(--theme-code-foreground, var(--jp-content-font-color1, black)));\n",
              "  --sklearn-color-icon: #696969;\n",
              "\n",
              "  @media (prefers-color-scheme: dark) {\n",
              "    /* Redefinition of color scheme for dark theme */\n",
              "    --sklearn-color-text-on-default-background: var(--sg-text-color, var(--theme-code-foreground, var(--jp-content-font-color1, white)));\n",
              "    --sklearn-color-background: var(--sg-background-color, var(--theme-background, var(--jp-layout-color0, #111)));\n",
              "    --sklearn-color-border-box: var(--sg-text-color, var(--theme-code-foreground, var(--jp-content-font-color1, white)));\n",
              "    --sklearn-color-icon: #878787;\n",
              "  }\n",
              "}\n",
              "\n",
              "#sk-container-id-1 {\n",
              "  color: var(--sklearn-color-text);\n",
              "}\n",
              "\n",
              "#sk-container-id-1 pre {\n",
              "  padding: 0;\n",
              "}\n",
              "\n",
              "#sk-container-id-1 input.sk-hidden--visually {\n",
              "  border: 0;\n",
              "  clip: rect(1px 1px 1px 1px);\n",
              "  clip: rect(1px, 1px, 1px, 1px);\n",
              "  height: 1px;\n",
              "  margin: -1px;\n",
              "  overflow: hidden;\n",
              "  padding: 0;\n",
              "  position: absolute;\n",
              "  width: 1px;\n",
              "}\n",
              "\n",
              "#sk-container-id-1 div.sk-dashed-wrapped {\n",
              "  border: 1px dashed var(--sklearn-color-line);\n",
              "  margin: 0 0.4em 0.5em 0.4em;\n",
              "  box-sizing: border-box;\n",
              "  padding-bottom: 0.4em;\n",
              "  background-color: var(--sklearn-color-background);\n",
              "}\n",
              "\n",
              "#sk-container-id-1 div.sk-container {\n",
              "  /* jupyter's `normalize.less` sets `[hidden] { display: none; }`\n",
              "     but bootstrap.min.css set `[hidden] { display: none !important; }`\n",
              "     so we also need the `!important` here to be able to override the\n",
              "     default hidden behavior on the sphinx rendered scikit-learn.org.\n",
              "     See: https://github.com/scikit-learn/scikit-learn/issues/21755 */\n",
              "  display: inline-block !important;\n",
              "  position: relative;\n",
              "}\n",
              "\n",
              "#sk-container-id-1 div.sk-text-repr-fallback {\n",
              "  display: none;\n",
              "}\n",
              "\n",
              "div.sk-parallel-item,\n",
              "div.sk-serial,\n",
              "div.sk-item {\n",
              "  /* draw centered vertical line to link estimators */\n",
              "  background-image: linear-gradient(var(--sklearn-color-text-on-default-background), var(--sklearn-color-text-on-default-background));\n",
              "  background-size: 2px 100%;\n",
              "  background-repeat: no-repeat;\n",
              "  background-position: center center;\n",
              "}\n",
              "\n",
              "/* Parallel-specific style estimator block */\n",
              "\n",
              "#sk-container-id-1 div.sk-parallel-item::after {\n",
              "  content: \"\";\n",
              "  width: 100%;\n",
              "  border-bottom: 2px solid var(--sklearn-color-text-on-default-background);\n",
              "  flex-grow: 1;\n",
              "}\n",
              "\n",
              "#sk-container-id-1 div.sk-parallel {\n",
              "  display: flex;\n",
              "  align-items: stretch;\n",
              "  justify-content: center;\n",
              "  background-color: var(--sklearn-color-background);\n",
              "  position: relative;\n",
              "}\n",
              "\n",
              "#sk-container-id-1 div.sk-parallel-item {\n",
              "  display: flex;\n",
              "  flex-direction: column;\n",
              "}\n",
              "\n",
              "#sk-container-id-1 div.sk-parallel-item:first-child::after {\n",
              "  align-self: flex-end;\n",
              "  width: 50%;\n",
              "}\n",
              "\n",
              "#sk-container-id-1 div.sk-parallel-item:last-child::after {\n",
              "  align-self: flex-start;\n",
              "  width: 50%;\n",
              "}\n",
              "\n",
              "#sk-container-id-1 div.sk-parallel-item:only-child::after {\n",
              "  width: 0;\n",
              "}\n",
              "\n",
              "/* Serial-specific style estimator block */\n",
              "\n",
              "#sk-container-id-1 div.sk-serial {\n",
              "  display: flex;\n",
              "  flex-direction: column;\n",
              "  align-items: center;\n",
              "  background-color: var(--sklearn-color-background);\n",
              "  padding-right: 1em;\n",
              "  padding-left: 1em;\n",
              "}\n",
              "\n",
              "\n",
              "/* Toggleable style: style used for estimator/Pipeline/ColumnTransformer box that is\n",
              "clickable and can be expanded/collapsed.\n",
              "- Pipeline and ColumnTransformer use this feature and define the default style\n",
              "- Estimators will overwrite some part of the style using the `sk-estimator` class\n",
              "*/\n",
              "\n",
              "/* Pipeline and ColumnTransformer style (default) */\n",
              "\n",
              "#sk-container-id-1 div.sk-toggleable {\n",
              "  /* Default theme specific background. It is overwritten whether we have a\n",
              "  specific estimator or a Pipeline/ColumnTransformer */\n",
              "  background-color: var(--sklearn-color-background);\n",
              "}\n",
              "\n",
              "/* Toggleable label */\n",
              "#sk-container-id-1 label.sk-toggleable__label {\n",
              "  cursor: pointer;\n",
              "  display: block;\n",
              "  width: 100%;\n",
              "  margin-bottom: 0;\n",
              "  padding: 0.5em;\n",
              "  box-sizing: border-box;\n",
              "  text-align: center;\n",
              "}\n",
              "\n",
              "#sk-container-id-1 label.sk-toggleable__label-arrow:before {\n",
              "  /* Arrow on the left of the label */\n",
              "  content: \"▸\";\n",
              "  float: left;\n",
              "  margin-right: 0.25em;\n",
              "  color: var(--sklearn-color-icon);\n",
              "}\n",
              "\n",
              "#sk-container-id-1 label.sk-toggleable__label-arrow:hover:before {\n",
              "  color: var(--sklearn-color-text);\n",
              "}\n",
              "\n",
              "/* Toggleable content - dropdown */\n",
              "\n",
              "#sk-container-id-1 div.sk-toggleable__content {\n",
              "  max-height: 0;\n",
              "  max-width: 0;\n",
              "  overflow: hidden;\n",
              "  text-align: left;\n",
              "  /* unfitted */\n",
              "  background-color: var(--sklearn-color-unfitted-level-0);\n",
              "}\n",
              "\n",
              "#sk-container-id-1 div.sk-toggleable__content.fitted {\n",
              "  /* fitted */\n",
              "  background-color: var(--sklearn-color-fitted-level-0);\n",
              "}\n",
              "\n",
              "#sk-container-id-1 div.sk-toggleable__content pre {\n",
              "  margin: 0.2em;\n",
              "  border-radius: 0.25em;\n",
              "  color: var(--sklearn-color-text);\n",
              "  /* unfitted */\n",
              "  background-color: var(--sklearn-color-unfitted-level-0);\n",
              "}\n",
              "\n",
              "#sk-container-id-1 div.sk-toggleable__content.fitted pre {\n",
              "  /* unfitted */\n",
              "  background-color: var(--sklearn-color-fitted-level-0);\n",
              "}\n",
              "\n",
              "#sk-container-id-1 input.sk-toggleable__control:checked~div.sk-toggleable__content {\n",
              "  /* Expand drop-down */\n",
              "  max-height: 200px;\n",
              "  max-width: 100%;\n",
              "  overflow: auto;\n",
              "}\n",
              "\n",
              "#sk-container-id-1 input.sk-toggleable__control:checked~label.sk-toggleable__label-arrow:before {\n",
              "  content: \"▾\";\n",
              "}\n",
              "\n",
              "/* Pipeline/ColumnTransformer-specific style */\n",
              "\n",
              "#sk-container-id-1 div.sk-label input.sk-toggleable__control:checked~label.sk-toggleable__label {\n",
              "  color: var(--sklearn-color-text);\n",
              "  background-color: var(--sklearn-color-unfitted-level-2);\n",
              "}\n",
              "\n",
              "#sk-container-id-1 div.sk-label.fitted input.sk-toggleable__control:checked~label.sk-toggleable__label {\n",
              "  background-color: var(--sklearn-color-fitted-level-2);\n",
              "}\n",
              "\n",
              "/* Estimator-specific style */\n",
              "\n",
              "/* Colorize estimator box */\n",
              "#sk-container-id-1 div.sk-estimator input.sk-toggleable__control:checked~label.sk-toggleable__label {\n",
              "  /* unfitted */\n",
              "  background-color: var(--sklearn-color-unfitted-level-2);\n",
              "}\n",
              "\n",
              "#sk-container-id-1 div.sk-estimator.fitted input.sk-toggleable__control:checked~label.sk-toggleable__label {\n",
              "  /* fitted */\n",
              "  background-color: var(--sklearn-color-fitted-level-2);\n",
              "}\n",
              "\n",
              "#sk-container-id-1 div.sk-label label.sk-toggleable__label,\n",
              "#sk-container-id-1 div.sk-label label {\n",
              "  /* The background is the default theme color */\n",
              "  color: var(--sklearn-color-text-on-default-background);\n",
              "}\n",
              "\n",
              "/* On hover, darken the color of the background */\n",
              "#sk-container-id-1 div.sk-label:hover label.sk-toggleable__label {\n",
              "  color: var(--sklearn-color-text);\n",
              "  background-color: var(--sklearn-color-unfitted-level-2);\n",
              "}\n",
              "\n",
              "/* Label box, darken color on hover, fitted */\n",
              "#sk-container-id-1 div.sk-label.fitted:hover label.sk-toggleable__label.fitted {\n",
              "  color: var(--sklearn-color-text);\n",
              "  background-color: var(--sklearn-color-fitted-level-2);\n",
              "}\n",
              "\n",
              "/* Estimator label */\n",
              "\n",
              "#sk-container-id-1 div.sk-label label {\n",
              "  font-family: monospace;\n",
              "  font-weight: bold;\n",
              "  display: inline-block;\n",
              "  line-height: 1.2em;\n",
              "}\n",
              "\n",
              "#sk-container-id-1 div.sk-label-container {\n",
              "  text-align: center;\n",
              "}\n",
              "\n",
              "/* Estimator-specific */\n",
              "#sk-container-id-1 div.sk-estimator {\n",
              "  font-family: monospace;\n",
              "  border: 1px dotted var(--sklearn-color-border-box);\n",
              "  border-radius: 0.25em;\n",
              "  box-sizing: border-box;\n",
              "  margin-bottom: 0.5em;\n",
              "  /* unfitted */\n",
              "  background-color: var(--sklearn-color-unfitted-level-0);\n",
              "}\n",
              "\n",
              "#sk-container-id-1 div.sk-estimator.fitted {\n",
              "  /* fitted */\n",
              "  background-color: var(--sklearn-color-fitted-level-0);\n",
              "}\n",
              "\n",
              "/* on hover */\n",
              "#sk-container-id-1 div.sk-estimator:hover {\n",
              "  /* unfitted */\n",
              "  background-color: var(--sklearn-color-unfitted-level-2);\n",
              "}\n",
              "\n",
              "#sk-container-id-1 div.sk-estimator.fitted:hover {\n",
              "  /* fitted */\n",
              "  background-color: var(--sklearn-color-fitted-level-2);\n",
              "}\n",
              "\n",
              "/* Specification for estimator info (e.g. \"i\" and \"?\") */\n",
              "\n",
              "/* Common style for \"i\" and \"?\" */\n",
              "\n",
              ".sk-estimator-doc-link,\n",
              "a:link.sk-estimator-doc-link,\n",
              "a:visited.sk-estimator-doc-link {\n",
              "  float: right;\n",
              "  font-size: smaller;\n",
              "  line-height: 1em;\n",
              "  font-family: monospace;\n",
              "  background-color: var(--sklearn-color-background);\n",
              "  border-radius: 1em;\n",
              "  height: 1em;\n",
              "  width: 1em;\n",
              "  text-decoration: none !important;\n",
              "  margin-left: 1ex;\n",
              "  /* unfitted */\n",
              "  border: var(--sklearn-color-unfitted-level-1) 1pt solid;\n",
              "  color: var(--sklearn-color-unfitted-level-1);\n",
              "}\n",
              "\n",
              ".sk-estimator-doc-link.fitted,\n",
              "a:link.sk-estimator-doc-link.fitted,\n",
              "a:visited.sk-estimator-doc-link.fitted {\n",
              "  /* fitted */\n",
              "  border: var(--sklearn-color-fitted-level-1) 1pt solid;\n",
              "  color: var(--sklearn-color-fitted-level-1);\n",
              "}\n",
              "\n",
              "/* On hover */\n",
              "div.sk-estimator:hover .sk-estimator-doc-link:hover,\n",
              ".sk-estimator-doc-link:hover,\n",
              "div.sk-label-container:hover .sk-estimator-doc-link:hover,\n",
              ".sk-estimator-doc-link:hover {\n",
              "  /* unfitted */\n",
              "  background-color: var(--sklearn-color-unfitted-level-3);\n",
              "  color: var(--sklearn-color-background);\n",
              "  text-decoration: none;\n",
              "}\n",
              "\n",
              "div.sk-estimator.fitted:hover .sk-estimator-doc-link.fitted:hover,\n",
              ".sk-estimator-doc-link.fitted:hover,\n",
              "div.sk-label-container:hover .sk-estimator-doc-link.fitted:hover,\n",
              ".sk-estimator-doc-link.fitted:hover {\n",
              "  /* fitted */\n",
              "  background-color: var(--sklearn-color-fitted-level-3);\n",
              "  color: var(--sklearn-color-background);\n",
              "  text-decoration: none;\n",
              "}\n",
              "\n",
              "/* Span, style for the box shown on hovering the info icon */\n",
              ".sk-estimator-doc-link span {\n",
              "  display: none;\n",
              "  z-index: 9999;\n",
              "  position: relative;\n",
              "  font-weight: normal;\n",
              "  right: .2ex;\n",
              "  padding: .5ex;\n",
              "  margin: .5ex;\n",
              "  width: min-content;\n",
              "  min-width: 20ex;\n",
              "  max-width: 50ex;\n",
              "  color: var(--sklearn-color-text);\n",
              "  box-shadow: 2pt 2pt 4pt #999;\n",
              "  /* unfitted */\n",
              "  background: var(--sklearn-color-unfitted-level-0);\n",
              "  border: .5pt solid var(--sklearn-color-unfitted-level-3);\n",
              "}\n",
              "\n",
              ".sk-estimator-doc-link.fitted span {\n",
              "  /* fitted */\n",
              "  background: var(--sklearn-color-fitted-level-0);\n",
              "  border: var(--sklearn-color-fitted-level-3);\n",
              "}\n",
              "\n",
              ".sk-estimator-doc-link:hover span {\n",
              "  display: block;\n",
              "}\n",
              "\n",
              "/* \"?\"-specific style due to the `<a>` HTML tag */\n",
              "\n",
              "#sk-container-id-1 a.estimator_doc_link {\n",
              "  float: right;\n",
              "  font-size: 1rem;\n",
              "  line-height: 1em;\n",
              "  font-family: monospace;\n",
              "  background-color: var(--sklearn-color-background);\n",
              "  border-radius: 1rem;\n",
              "  height: 1rem;\n",
              "  width: 1rem;\n",
              "  text-decoration: none;\n",
              "  /* unfitted */\n",
              "  color: var(--sklearn-color-unfitted-level-1);\n",
              "  border: var(--sklearn-color-unfitted-level-1) 1pt solid;\n",
              "}\n",
              "\n",
              "#sk-container-id-1 a.estimator_doc_link.fitted {\n",
              "  /* fitted */\n",
              "  border: var(--sklearn-color-fitted-level-1) 1pt solid;\n",
              "  color: var(--sklearn-color-fitted-level-1);\n",
              "}\n",
              "\n",
              "/* On hover */\n",
              "#sk-container-id-1 a.estimator_doc_link:hover {\n",
              "  /* unfitted */\n",
              "  background-color: var(--sklearn-color-unfitted-level-3);\n",
              "  color: var(--sklearn-color-background);\n",
              "  text-decoration: none;\n",
              "}\n",
              "\n",
              "#sk-container-id-1 a.estimator_doc_link.fitted:hover {\n",
              "  /* fitted */\n",
              "  background-color: var(--sklearn-color-fitted-level-3);\n",
              "}\n",
              "</style><div id=\"sk-container-id-1\" class=\"sk-top-container\"><div class=\"sk-text-repr-fallback\"><pre>RandomForestClassifier()</pre><b>In a Jupyter environment, please rerun this cell to show the HTML representation or trust the notebook. <br />On GitHub, the HTML representation is unable to render, please try loading this page with nbviewer.org.</b></div><div class=\"sk-container\" hidden><div class=\"sk-item\"><div class=\"sk-estimator fitted sk-toggleable\"><input class=\"sk-toggleable__control sk-hidden--visually\" id=\"sk-estimator-id-1\" type=\"checkbox\" checked><label for=\"sk-estimator-id-1\" class=\"sk-toggleable__label fitted sk-toggleable__label-arrow fitted\">&nbsp;&nbsp;RandomForestClassifier<a class=\"sk-estimator-doc-link fitted\" rel=\"noreferrer\" target=\"_blank\" href=\"https://scikit-learn.org/1.4/modules/generated/sklearn.ensemble.RandomForestClassifier.html\">?<span>Documentation for RandomForestClassifier</span></a><span class=\"sk-estimator-doc-link fitted\">i<span>Fitted</span></span></label><div class=\"sk-toggleable__content fitted\"><pre>RandomForestClassifier()</pre></div> </div></div></div></div>"
            ],
            "text/plain": [
              "RandomForestClassifier()"
            ]
          },
          "execution_count": 23,
          "metadata": {},
          "output_type": "execute_result"
        }
      ],
      "source": [
        "from sklearn.ensemble import RandomForestClassifier\n",
        "rfc = RandomForestClassifier()\n",
        "rfc.fit(X_train, y_train)\n",
        "# data_0 = data_0.sample(n=9000)"
      ]
    },
    {
      "cell_type": "code",
      "execution_count": 24,
      "metadata": {
        "id": "nkm6KYGvcBih"
      },
      "outputs": [],
      "source": [
        "from sklearn.metrics import roc_auc_score, accuracy_score, f1_score"
      ]
    },
    {
      "cell_type": "code",
      "execution_count": 25,
      "metadata": {
        "id": "7wNgnGgXYdaY"
      },
      "outputs": [
        {
          "name": "stdout",
          "output_type": "stream",
          "text": [
            "ROCAUC score: 0.8590867007136016\n",
            "Accuracy score: 0.9993445923013002\n",
            "F1 score: 0.8227848101265823\n"
          ]
        }
      ],
      "source": [
        "# prediccion\n",
        "rfc_predict = rfc.predict(X_test)\n",
        "print('ROCAUC score:',roc_auc_score(y_test, rfc_predict))\n",
        "print('Accuracy score:',accuracy_score(y_test, rfc_predict))\n",
        "print('F1 score:',f1_score(y_test, rfc_predict))"
      ]
    },
    {
      "cell_type": "code",
      "execution_count": 26,
      "metadata": {
        "id": "Oux7Kdkb4zWB"
      },
      "outputs": [
        {
          "data": {
            "text/plain": [
              "<Axes: >"
            ]
          },
          "execution_count": 26,
          "metadata": {},
          "output_type": "execute_result"
        },
        {
          "data": {
            "image/png": "[encoded data removed]",
            "text/plain": [
              "<Figure size 1200x1200 with 2 Axes>"
            ]
          },
          "metadata": {},
          "output_type": "display_data"
        }
      ],
      "source": [
        "conf_matrix_rf = confusion_matrix(y_test, rfc_predict)\n",
        "plt.figure(figsize=(12, 12))\n",
        "sns.heatmap(conf_matrix_rf, xticklabels=LABELS, yticklabels=LABELS, annot=True, fmt=\"d\")"
      ]
    },
    {
      "cell_type": "code",
      "execution_count": 27,
      "metadata": {
        "id": "XBCApGWE59Fy"
      },
      "outputs": [
        {
          "name": "stdout",
          "output_type": "stream",
          "text": [
            "              precision    recall  f1-score   support\n",
            "\n",
            "           0       1.00      1.00      1.00     85262\n",
            "           1       0.96      0.72      0.82       181\n",
            "\n",
            "    accuracy                           1.00     85443\n",
            "   macro avg       0.98      0.86      0.91     85443\n",
            "weighted avg       1.00      1.00      1.00     85443\n",
            "\n"
          ]
        }
      ],
      "source": [
        "print(classification_report(y_test, rfc_predict))"
      ]
    },
    {
      "cell_type": "markdown",
      "metadata": {
        "id": "TZGvxZ2mSL7v"
      },
      "source": [
        "## Penalizar algoritmos (entrenamiento sensible al costo)\n",
        "La siguiente táctica es utilizar algoritmos de aprendizaje penalizados que aumentan el costo de los errores de clasificación en la clase minoritaria.\n",
        "\n",
        "Un algoritmo popular para esta técnica es Penalized-SVM.\n",
        "\n",
        "Durante el entrenamiento, podemos usar el argumento `class_weight=’balanced’`para penalizar los errores de la clase minoritaria en una cantidad proporcional a cuán subrepresentada está.\n",
        "\n",
        "También queremos incluir el argumento `probability=True` si queremos habilitar estimaciones de probabilidad para algoritmos SVM.\n",
        "\n"
      ]
    },
    {
      "cell_type": "code",
      "execution_count": 28,
      "metadata": {
        "id": "w3e25JE6Sdez"
      },
      "outputs": [],
      "source": [
        "from sklearn.svm import SVC\n",
        "\n",
        "\n",
        "svc_model = SVC(class_weight='balanced', probability=True)\n",
        "\n",
        "svc_model.fit(X_train, y_train)\n",
        "\n",
        "svc_predict = svc_model.predict(X_test)\n",
        "print('ROCAUC score:',roc_auc_score(y_test, svc_predict))\n",
        "print('Accuracy score:',accuracy_score(y_test, svc_predict))\n",
        "print('F1 score:',f1_score(y_test, svc_predict))"
      ]
    }
  ],
  "metadata": {
    "colab": {
      "provenance": []
    },
    "kernelspec": {
      "display_name": "Python 3",
      "name": "python3"
    },
    "language_info": {
      "codemirror_mode": {
        "name": "ipython",
        "version": 3
      },
      "file_extension": ".py",
      "mimetype": "text/x-python",
      "name": "python",
      "nbconvert_exporter": "python",
      "pygments_lexer": "ipython3",
      "version": "3.12.2"
    }
  },
  "nbformat": 4,
  "nbformat_minor": 0
}
